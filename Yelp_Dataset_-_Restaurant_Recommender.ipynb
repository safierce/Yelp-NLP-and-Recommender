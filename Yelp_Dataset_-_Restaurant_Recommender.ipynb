{
 "cells": [
  {
   "cell_type": "markdown",
   "metadata": {},
   "source": [
    "# Yelp Data Challenge - Restaurant Recommender\n"
   ]
  },
  {
   "cell_type": "code",
   "execution_count": 1,
   "metadata": {
    "collapsed": true
   },
   "outputs": [],
   "source": [
    "# load library\n",
    "\n",
    "import pandas as pd\n",
    "import numpy as np\n",
    "import matplotlib.pyplot as plt\n",
    "% matplotlib inline\n",
    "plt.style.use(\"ggplot\")"
   ]
  },
  {
   "cell_type": "code",
   "execution_count": 2,
   "metadata": {},
   "outputs": [
    {
     "data": {
      "text/html": [
       "<div>\n",
       "<table border=\"1\" class=\"dataframe\">\n",
       "  <thead>\n",
       "    <tr style=\"text-align: right;\">\n",
       "      <th></th>\n",
       "      <th>business_id</th>\n",
       "      <th>name</th>\n",
       "      <th>categories</th>\n",
       "      <th>avg_stars</th>\n",
       "      <th>cool</th>\n",
       "      <th>date</th>\n",
       "      <th>funny</th>\n",
       "      <th>review_id</th>\n",
       "      <th>stars</th>\n",
       "      <th>text</th>\n",
       "      <th>useful</th>\n",
       "      <th>user_id</th>\n",
       "    </tr>\n",
       "  </thead>\n",
       "  <tbody>\n",
       "    <tr>\n",
       "      <th>0</th>\n",
       "      <td>--9e1ONYQuAa-CB_Rrw7Tw</td>\n",
       "      <td>Delmonico Steakhouse</td>\n",
       "      <td>[Steakhouses, Cajun/Creole, Restaurants]</td>\n",
       "      <td>4.0</td>\n",
       "      <td>0</td>\n",
       "      <td>2017-01-20</td>\n",
       "      <td>0</td>\n",
       "      <td>L8lo5SKXfZRlbn1bpPiC9w</td>\n",
       "      <td>5</td>\n",
       "      <td>Went here for guys weekend. Unbelievable. Ravi...</td>\n",
       "      <td>0</td>\n",
       "      <td>nT8zgjoc-PbdBoQsFEXFLw</td>\n",
       "    </tr>\n",
       "    <tr>\n",
       "      <th>1</th>\n",
       "      <td>--9e1ONYQuAa-CB_Rrw7Tw</td>\n",
       "      <td>Delmonico Steakhouse</td>\n",
       "      <td>[Steakhouses, Cajun/Creole, Restaurants]</td>\n",
       "      <td>4.0</td>\n",
       "      <td>1</td>\n",
       "      <td>2017-02-12</td>\n",
       "      <td>0</td>\n",
       "      <td>3cnTdE45VrsS0o4cVhfGog</td>\n",
       "      <td>3</td>\n",
       "      <td>Located inside my favorite hotel Venetian, Del...</td>\n",
       "      <td>1</td>\n",
       "      <td>rOIrilMC7VFwFVBeQNiKMw</td>\n",
       "    </tr>\n",
       "    <tr>\n",
       "      <th>2</th>\n",
       "      <td>--9e1ONYQuAa-CB_Rrw7Tw</td>\n",
       "      <td>Delmonico Steakhouse</td>\n",
       "      <td>[Steakhouses, Cajun/Creole, Restaurants]</td>\n",
       "      <td>4.0</td>\n",
       "      <td>1</td>\n",
       "      <td>2017-04-18</td>\n",
       "      <td>0</td>\n",
       "      <td>QtLQQlmFINUSb2K_gE7J1Q</td>\n",
       "      <td>4</td>\n",
       "      <td>Great food, great service. Expect to pay a pre...</td>\n",
       "      <td>1</td>\n",
       "      <td>ez3GBw83OIgzzgvc0R4jzw</td>\n",
       "    </tr>\n",
       "    <tr>\n",
       "      <th>3</th>\n",
       "      <td>--9e1ONYQuAa-CB_Rrw7Tw</td>\n",
       "      <td>Delmonico Steakhouse</td>\n",
       "      <td>[Steakhouses, Cajun/Creole, Restaurants]</td>\n",
       "      <td>4.0</td>\n",
       "      <td>0</td>\n",
       "      <td>2017-01-03</td>\n",
       "      <td>0</td>\n",
       "      <td>oqQsexnfmYxRO-0NvxJN9A</td>\n",
       "      <td>5</td>\n",
       "      <td>My must stop at Vegas. Highly recommend to any...</td>\n",
       "      <td>0</td>\n",
       "      <td>gJrOPH-DSZWY_NX2j6Bugw</td>\n",
       "    </tr>\n",
       "    <tr>\n",
       "      <th>4</th>\n",
       "      <td>--9e1ONYQuAa-CB_Rrw7Tw</td>\n",
       "      <td>Delmonico Steakhouse</td>\n",
       "      <td>[Steakhouses, Cajun/Creole, Restaurants]</td>\n",
       "      <td>4.0</td>\n",
       "      <td>0</td>\n",
       "      <td>2017-02-26</td>\n",
       "      <td>0</td>\n",
       "      <td>aw_5aKHlAzV0PSM7F92YFw</td>\n",
       "      <td>5</td>\n",
       "      <td>This place is top notch. We didn't order any a...</td>\n",
       "      <td>0</td>\n",
       "      <td>3Y_gz3wb7T5ur9FHqxBcgQ</td>\n",
       "    </tr>\n",
       "  </tbody>\n",
       "</table>\n",
       "</div>"
      ],
      "text/plain": [
       "              business_id                  name  \\\n",
       "0  --9e1ONYQuAa-CB_Rrw7Tw  Delmonico Steakhouse   \n",
       "1  --9e1ONYQuAa-CB_Rrw7Tw  Delmonico Steakhouse   \n",
       "2  --9e1ONYQuAa-CB_Rrw7Tw  Delmonico Steakhouse   \n",
       "3  --9e1ONYQuAa-CB_Rrw7Tw  Delmonico Steakhouse   \n",
       "4  --9e1ONYQuAa-CB_Rrw7Tw  Delmonico Steakhouse   \n",
       "\n",
       "                                 categories  avg_stars  cool        date  \\\n",
       "0  [Steakhouses, Cajun/Creole, Restaurants]        4.0     0  2017-01-20   \n",
       "1  [Steakhouses, Cajun/Creole, Restaurants]        4.0     1  2017-02-12   \n",
       "2  [Steakhouses, Cajun/Creole, Restaurants]        4.0     1  2017-04-18   \n",
       "3  [Steakhouses, Cajun/Creole, Restaurants]        4.0     0  2017-01-03   \n",
       "4  [Steakhouses, Cajun/Creole, Restaurants]        4.0     0  2017-02-26   \n",
       "\n",
       "   funny               review_id  stars  \\\n",
       "0      0  L8lo5SKXfZRlbn1bpPiC9w      5   \n",
       "1      0  3cnTdE45VrsS0o4cVhfGog      3   \n",
       "2      0  QtLQQlmFINUSb2K_gE7J1Q      4   \n",
       "3      0  oqQsexnfmYxRO-0NvxJN9A      5   \n",
       "4      0  aw_5aKHlAzV0PSM7F92YFw      5   \n",
       "\n",
       "                                                text  useful  \\\n",
       "0  Went here for guys weekend. Unbelievable. Ravi...       0   \n",
       "1  Located inside my favorite hotel Venetian, Del...       1   \n",
       "2  Great food, great service. Expect to pay a pre...       1   \n",
       "3  My must stop at Vegas. Highly recommend to any...       0   \n",
       "4  This place is top notch. We didn't order any a...       0   \n",
       "\n",
       "                  user_id  \n",
       "0  nT8zgjoc-PbdBoQsFEXFLw  \n",
       "1  rOIrilMC7VFwFVBeQNiKMw  \n",
       "2  ez3GBw83OIgzzgvc0R4jzw  \n",
       "3  gJrOPH-DSZWY_NX2j6Bugw  \n",
       "4  3Y_gz3wb7T5ur9FHqxBcgQ  "
      ]
     },
     "execution_count": 2,
     "metadata": {},
     "output_type": "execute_result"
    }
   ],
   "source": [
    "# load data\n",
    "df = pd.read_csv(\"../../YelpData/last_years_restaurant_reviews.csv\")\n",
    "df.head()"
   ]
  },
  {
   "cell_type": "markdown",
   "metadata": {},
   "source": [
    "# 1. Clean data and get rating data"
   ]
  },
  {
   "cell_type": "markdown",
   "metadata": {},
   "source": [
    "### Select relevant columns in the original dataframe"
   ]
  },
  {
   "cell_type": "code",
   "execution_count": 3,
   "metadata": {
    "collapsed": true
   },
   "outputs": [],
   "source": [
    "# Get business_id, user_id, stars for recommender\n",
    "df_stars = df[['business_id', 'user_id', 'stars']]"
   ]
  },
  {
   "cell_type": "code",
   "execution_count": 4,
   "metadata": {},
   "outputs": [
    {
     "data": {
      "text/plain": [
       "5    53533\n",
       "4    21926\n",
       "1    14422\n",
       "3    11787\n",
       "2     8794\n",
       "Name: stars, dtype: int64"
      ]
     },
     "execution_count": 4,
     "metadata": {},
     "output_type": "execute_result"
    }
   ],
   "source": [
    "# stars distribution\n",
    "df_stars['stars'].value_counts()"
   ]
  },
  {
   "cell_type": "code",
   "execution_count": 5,
   "metadata": {},
   "outputs": [
    {
     "data": {
      "text/plain": [
       "3787"
      ]
     },
     "execution_count": 5,
     "metadata": {},
     "output_type": "execute_result"
    }
   ],
   "source": [
    "# number of unique business_id\n",
    "df_stars['business_id'].nunique() # number of unique elements"
   ]
  },
  {
   "cell_type": "code",
   "execution_count": 6,
   "metadata": {},
   "outputs": [
    {
     "data": {
      "text/plain": [
       "62934"
      ]
     },
     "execution_count": 6,
     "metadata": {},
     "output_type": "execute_result"
    }
   ],
   "source": [
    "# number of unique user_id\n",
    "df_stars['user_id'].nunique()"
   ]
  },
  {
   "cell_type": "code",
   "execution_count": 7,
   "metadata": {},
   "outputs": [
    {
     "data": {
      "text/plain": [
       "bLbSNkLggFnqwNNzzq-Ijw    109\n",
       "YE54kKTuqJJPNYWIKIpOEQ     84\n",
       "JaqcCU3nxReTW2cBLHounA     80\n",
       "y3FcL4bLy0eLlkb0SDPnBQ     76\n",
       "80qYPp6Fk_jmO3334DKGGg     63\n",
       "Name: user_id, dtype: int64"
      ]
     },
     "execution_count": 7,
     "metadata": {},
     "output_type": "execute_result"
    }
   ],
   "source": [
    "# user comments counts\n",
    "df_user_counts = df_stars['user_id'].value_counts()\n",
    "df_user_counts.head()"
   ]
  },
  {
   "cell_type": "code",
   "execution_count": 9,
   "metadata": {
    "scrolled": true
   },
   "outputs": [
    {
     "data": {
      "image/png": "[encoded data removed]",
      "text/plain": [
       "<matplotlib.figure.Figure at 0x7feda6fbedd0>"
      ]
     },
     "metadata": {},
     "output_type": "display_data"
    }
   ],
   "source": [
    "# display log histogram\n",
    "# df_user_counts.hist()\n",
    "df_user_counts.apply(np.log).hist()\n",
    "plt.show()"
   ]
  },
  {
   "cell_type": "markdown",
   "metadata": {},
   "source": [
    "#### There are many users that haven't given many reviews, exclude these users from the item-item similarity recommender."
   ]
  },
  {
   "cell_type": "code",
   "execution_count": 10,
   "metadata": {},
   "outputs": [
    {
     "data": {
      "text/plain": [
       "44399"
      ]
     },
     "execution_count": 10,
     "metadata": {},
     "output_type": "execute_result"
    }
   ],
   "source": [
    "# how many users only comments once\n",
    "df_user_counts[df_user_counts == 1].sum()"
   ]
  },
  {
   "cell_type": "code",
   "execution_count": 11,
   "metadata": {
    "collapsed": true
   },
   "outputs": [],
   "source": [
    "# users comment over 5 times\n",
    "df_users = df_user_counts[df_user_counts > 5]"
   ]
  },
  {
   "cell_type": "code",
   "execution_count": 12,
   "metadata": {},
   "outputs": [
    {
     "data": {
      "text/plain": [
       "2185"
      ]
     },
     "execution_count": 12,
     "metadata": {},
     "output_type": "execute_result"
    }
   ],
   "source": [
    "# count users comment over 5 times as active user\n",
    "df_users.count()"
   ]
  },
  {
   "cell_type": "code",
   "execution_count": 13,
   "metadata": {},
   "outputs": [
    {
     "data": {
      "text/plain": [
       "23050"
      ]
     },
     "execution_count": 13,
     "metadata": {},
     "output_type": "execute_result"
    }
   ],
   "source": [
    "# sum of all comments\n",
    "df_users.sum()"
   ]
  },
  {
   "cell_type": "code",
   "execution_count": 14,
   "metadata": {},
   "outputs": [
    {
     "data": {
      "text/plain": [
       "Index([u'bLbSNkLggFnqwNNzzq-Ijw', u'YE54kKTuqJJPNYWIKIpOEQ',\n",
       "       u'JaqcCU3nxReTW2cBLHounA', u'y3FcL4bLy0eLlkb0SDPnBQ',\n",
       "       u'80qYPp6Fk_jmO3334DKGGg', u'P0rGN5mDue55uIiAzkrRlw',\n",
       "       u'FQbVI3UyKlL-HfQGcRF8aA', u'SVH0qJBvYGLxrt6YuUdyyw',\n",
       "       u'JQIZhoQB-Tg9hdBEj90m4g', u'lQBZo8_mm80dbwI5bo5c_w',\n",
       "       ...\n",
       "       u'iqBK-L6_HnPJK_apw73x0Q', u'-aV7azrzW2rlAm6G4DA-cw',\n",
       "       u'KYJJoeFSBjgm1hSSY4y2yw', u'9KCoXFS7alSJsGfFsZANFQ',\n",
       "       u'SPI7O1GKZTvJhiXNFj81Eg', u'12I0wU8oMqJqFSDOfCK-eg',\n",
       "       u'EcYPCwJtFcQ-Ih9BG6mcUA', u'XpvqOy4CnhuzqB_o7bwgNQ',\n",
       "       u'6fUC_vnkJxTtCzqFFY190g', u'hu1sIACDSqZ_TyP3K6nrsQ'],\n",
       "      dtype='object', length=2185)"
      ]
     },
     "execution_count": 14,
     "metadata": {},
     "output_type": "execute_result"
    }
   ],
   "source": [
    "# display active user id\n",
    "df_users.index"
   ]
  },
  {
   "cell_type": "code",
   "execution_count": 19,
   "metadata": {
    "collapsed": true
   },
   "outputs": [],
   "source": [
    "# df_stars.head()\n",
    "# df_stars.set_index('user_id').head()\n",
    "# df_stars.set_index('user_id').ix[df_users.index].head() # sorting with users\n",
    "# df_stars.set_index('user_id').ix[df_users.index].reset_index().head()"
   ]
  },
  {
   "cell_type": "code",
   "execution_count": 16,
   "metadata": {},
   "outputs": [
    {
     "data": {
      "text/html": [
       "<div>\n",
       "<table border=\"1\" class=\"dataframe\">\n",
       "  <thead>\n",
       "    <tr style=\"text-align: right;\">\n",
       "      <th></th>\n",
       "      <th>user_id</th>\n",
       "      <th>business_id</th>\n",
       "      <th>stars</th>\n",
       "    </tr>\n",
       "  </thead>\n",
       "  <tbody>\n",
       "    <tr>\n",
       "      <th>0</th>\n",
       "      <td>bLbSNkLggFnqwNNzzq-Ijw</td>\n",
       "      <td>0i9S0BejjRv0ZDwdO9XymA</td>\n",
       "      <td>3</td>\n",
       "    </tr>\n",
       "    <tr>\n",
       "      <th>1</th>\n",
       "      <td>bLbSNkLggFnqwNNzzq-Ijw</td>\n",
       "      <td>2QznyHGF0PuiYkrl5RU66A</td>\n",
       "      <td>4</td>\n",
       "    </tr>\n",
       "    <tr>\n",
       "      <th>2</th>\n",
       "      <td>bLbSNkLggFnqwNNzzq-Ijw</td>\n",
       "      <td>2WiMyg8-DoXQ8_R5qFc2iQ</td>\n",
       "      <td>3</td>\n",
       "    </tr>\n",
       "    <tr>\n",
       "      <th>3</th>\n",
       "      <td>bLbSNkLggFnqwNNzzq-Ijw</td>\n",
       "      <td>2vr2yGIzSehe_ITFamNpyw</td>\n",
       "      <td>3</td>\n",
       "    </tr>\n",
       "    <tr>\n",
       "      <th>4</th>\n",
       "      <td>bLbSNkLggFnqwNNzzq-Ijw</td>\n",
       "      <td>4Nj2ktP2NjCbv2aKeH3ZBg</td>\n",
       "      <td>4</td>\n",
       "    </tr>\n",
       "  </tbody>\n",
       "</table>\n",
       "</div>"
      ],
      "text/plain": [
       "                  user_id             business_id  stars\n",
       "0  bLbSNkLggFnqwNNzzq-Ijw  0i9S0BejjRv0ZDwdO9XymA      3\n",
       "1  bLbSNkLggFnqwNNzzq-Ijw  2QznyHGF0PuiYkrl5RU66A      4\n",
       "2  bLbSNkLggFnqwNNzzq-Ijw  2WiMyg8-DoXQ8_R5qFc2iQ      3\n",
       "3  bLbSNkLggFnqwNNzzq-Ijw  2vr2yGIzSehe_ITFamNpyw      3\n",
       "4  bLbSNkLggFnqwNNzzq-Ijw  4Nj2ktP2NjCbv2aKeH3ZBg      4"
      ]
     },
     "execution_count": 16,
     "metadata": {},
     "output_type": "execute_result"
    }
   ],
   "source": [
    "# reorder dataframe\n",
    "df_stars_cleaned = df_stars.set_index('user_id').ix[df_users.index].reset_index()\n",
    "df_stars_cleaned.head()"
   ]
  },
  {
   "cell_type": "markdown",
   "metadata": {},
   "source": [
    "### Create utility matrix from records"
   ]
  },
  {
   "cell_type": "code",
   "execution_count": 17,
   "metadata": {
    "collapsed": true
   },
   "outputs": [],
   "source": [
    "# convert to document, word like matrix\n",
    "df_utility = pd.pivot_table(data=df_stars_cleaned,\n",
    "                            values='stars', # fill with stars\n",
    "                            index='user_id', # rows\n",
    "                            columns='business_id', # columns\n",
    "                            fill_value=0) # fill missings"
   ]
  },
  {
   "cell_type": "code",
   "execution_count": 18,
   "metadata": {
    "scrolled": true
   },
   "outputs": [
    {
     "data": {
      "text/html": [
       "<div>\n",
       "<table border=\"1\" class=\"dataframe\">\n",
       "  <thead>\n",
       "    <tr style=\"text-align: right;\">\n",
       "      <th>business_id</th>\n",
       "      <th>--9e1ONYQuAa-CB_Rrw7Tw</th>\n",
       "      <th>-3zffZUHoY8bQjGfPSoBKQ</th>\n",
       "      <th>-8R_-EkGpUhBk55K9Dd4mg</th>\n",
       "      <th>-9YyInW1wapzdNZrhQJ9dg</th>\n",
       "      <th>-AD5PiuJHgdUcAK-Vxao2A</th>\n",
       "      <th>-Bf8BQ3yMk8U2f45r2DRKw</th>\n",
       "      <th>-Bv-HHUs8aHzDrdWcZHn8w</th>\n",
       "      <th>-C8sSrFqaCxp51pyo-fQLQ</th>\n",
       "      <th>-CQokjildrY7UZezXCdEBw</th>\n",
       "      <th>-FNquqGseSCVMWo7KbK-Tg</th>\n",
       "      <th>...</th>\n",
       "      <th>zdcesxBdjljRgS0QmCgkBg</th>\n",
       "      <th>zjvnqTjBp56NhMp1GrlO5g</th>\n",
       "      <th>zmltWmTpoBt5sCU-5Kzj-Q</th>\n",
       "      <th>znWHLW1pt19HzW1VY6KfCA</th>\n",
       "      <th>zp-K5s3pGTWuuaVBWo6WZA</th>\n",
       "      <th>zpoZ6WyQUYff18-z4ZU1mA</th>\n",
       "      <th>zsQk990PubOHjr1YcLkQFw</th>\n",
       "      <th>zttcrQP4MxNS5X5itzStXg</th>\n",
       "      <th>zuwba6QEBIDZT0tJZmNhdQ</th>\n",
       "      <th>zwNC-Ow4eIMan2__bS9-rg</th>\n",
       "    </tr>\n",
       "    <tr>\n",
       "      <th>user_id</th>\n",
       "      <th></th>\n",
       "      <th></th>\n",
       "      <th></th>\n",
       "      <th></th>\n",
       "      <th></th>\n",
       "      <th></th>\n",
       "      <th></th>\n",
       "      <th></th>\n",
       "      <th></th>\n",
       "      <th></th>\n",
       "      <th></th>\n",
       "      <th></th>\n",
       "      <th></th>\n",
       "      <th></th>\n",
       "      <th></th>\n",
       "      <th></th>\n",
       "      <th></th>\n",
       "      <th></th>\n",
       "      <th></th>\n",
       "      <th></th>\n",
       "      <th></th>\n",
       "    </tr>\n",
       "  </thead>\n",
       "  <tbody>\n",
       "    <tr>\n",
       "      <th>--ZNfWKj1VyVElRx6-g1fg</th>\n",
       "      <td>0</td>\n",
       "      <td>0</td>\n",
       "      <td>0</td>\n",
       "      <td>0</td>\n",
       "      <td>0</td>\n",
       "      <td>0</td>\n",
       "      <td>0</td>\n",
       "      <td>0</td>\n",
       "      <td>0</td>\n",
       "      <td>0</td>\n",
       "      <td>...</td>\n",
       "      <td>0</td>\n",
       "      <td>0</td>\n",
       "      <td>0</td>\n",
       "      <td>0</td>\n",
       "      <td>0</td>\n",
       "      <td>0</td>\n",
       "      <td>0</td>\n",
       "      <td>0</td>\n",
       "      <td>0</td>\n",
       "      <td>0</td>\n",
       "    </tr>\n",
       "    <tr>\n",
       "      <th>-58xgulrXMhEHcUrKvlIuQ</th>\n",
       "      <td>0</td>\n",
       "      <td>0</td>\n",
       "      <td>0</td>\n",
       "      <td>0</td>\n",
       "      <td>0</td>\n",
       "      <td>0</td>\n",
       "      <td>0</td>\n",
       "      <td>0</td>\n",
       "      <td>0</td>\n",
       "      <td>0</td>\n",
       "      <td>...</td>\n",
       "      <td>0</td>\n",
       "      <td>0</td>\n",
       "      <td>0</td>\n",
       "      <td>3</td>\n",
       "      <td>0</td>\n",
       "      <td>0</td>\n",
       "      <td>0</td>\n",
       "      <td>0</td>\n",
       "      <td>0</td>\n",
       "      <td>0</td>\n",
       "    </tr>\n",
       "    <tr>\n",
       "      <th>-5ye1ya0wRQhNRF9NfQ1fA</th>\n",
       "      <td>0</td>\n",
       "      <td>0</td>\n",
       "      <td>0</td>\n",
       "      <td>0</td>\n",
       "      <td>0</td>\n",
       "      <td>0</td>\n",
       "      <td>0</td>\n",
       "      <td>0</td>\n",
       "      <td>0</td>\n",
       "      <td>0</td>\n",
       "      <td>...</td>\n",
       "      <td>0</td>\n",
       "      <td>0</td>\n",
       "      <td>0</td>\n",
       "      <td>0</td>\n",
       "      <td>0</td>\n",
       "      <td>0</td>\n",
       "      <td>0</td>\n",
       "      <td>0</td>\n",
       "      <td>0</td>\n",
       "      <td>0</td>\n",
       "    </tr>\n",
       "    <tr>\n",
       "      <th>-ApvB2uyNYkLCvSfwgLF7g</th>\n",
       "      <td>0</td>\n",
       "      <td>0</td>\n",
       "      <td>0</td>\n",
       "      <td>0</td>\n",
       "      <td>0</td>\n",
       "      <td>0</td>\n",
       "      <td>0</td>\n",
       "      <td>0</td>\n",
       "      <td>0</td>\n",
       "      <td>0</td>\n",
       "      <td>...</td>\n",
       "      <td>0</td>\n",
       "      <td>0</td>\n",
       "      <td>0</td>\n",
       "      <td>0</td>\n",
       "      <td>0</td>\n",
       "      <td>0</td>\n",
       "      <td>0</td>\n",
       "      <td>0</td>\n",
       "      <td>0</td>\n",
       "      <td>0</td>\n",
       "    </tr>\n",
       "    <tr>\n",
       "      <th>-BevLRnJhh9JeIT2g5I3mQ</th>\n",
       "      <td>0</td>\n",
       "      <td>0</td>\n",
       "      <td>0</td>\n",
       "      <td>0</td>\n",
       "      <td>0</td>\n",
       "      <td>0</td>\n",
       "      <td>0</td>\n",
       "      <td>0</td>\n",
       "      <td>0</td>\n",
       "      <td>0</td>\n",
       "      <td>...</td>\n",
       "      <td>0</td>\n",
       "      <td>0</td>\n",
       "      <td>0</td>\n",
       "      <td>0</td>\n",
       "      <td>0</td>\n",
       "      <td>0</td>\n",
       "      <td>0</td>\n",
       "      <td>0</td>\n",
       "      <td>0</td>\n",
       "      <td>0</td>\n",
       "    </tr>\n",
       "  </tbody>\n",
       "</table>\n",
       "<p>5 rows × 2979 columns</p>\n",
       "</div>"
      ],
      "text/plain": [
       "business_id             --9e1ONYQuAa-CB_Rrw7Tw  -3zffZUHoY8bQjGfPSoBKQ  \\\n",
       "user_id                                                                  \n",
       "--ZNfWKj1VyVElRx6-g1fg                       0                       0   \n",
       "-58xgulrXMhEHcUrKvlIuQ                       0                       0   \n",
       "-5ye1ya0wRQhNRF9NfQ1fA                       0                       0   \n",
       "-ApvB2uyNYkLCvSfwgLF7g                       0                       0   \n",
       "-BevLRnJhh9JeIT2g5I3mQ                       0                       0   \n",
       "\n",
       "business_id             -8R_-EkGpUhBk55K9Dd4mg  -9YyInW1wapzdNZrhQJ9dg  \\\n",
       "user_id                                                                  \n",
       "--ZNfWKj1VyVElRx6-g1fg                       0                       0   \n",
       "-58xgulrXMhEHcUrKvlIuQ                       0                       0   \n",
       "-5ye1ya0wRQhNRF9NfQ1fA                       0                       0   \n",
       "-ApvB2uyNYkLCvSfwgLF7g                       0                       0   \n",
       "-BevLRnJhh9JeIT2g5I3mQ                       0                       0   \n",
       "\n",
       "business_id             -AD5PiuJHgdUcAK-Vxao2A  -Bf8BQ3yMk8U2f45r2DRKw  \\\n",
       "user_id                                                                  \n",
       "--ZNfWKj1VyVElRx6-g1fg                       0                       0   \n",
       "-58xgulrXMhEHcUrKvlIuQ                       0                       0   \n",
       "-5ye1ya0wRQhNRF9NfQ1fA                       0                       0   \n",
       "-ApvB2uyNYkLCvSfwgLF7g                       0                       0   \n",
       "-BevLRnJhh9JeIT2g5I3mQ                       0                       0   \n",
       "\n",
       "business_id             -Bv-HHUs8aHzDrdWcZHn8w  -C8sSrFqaCxp51pyo-fQLQ  \\\n",
       "user_id                                                                  \n",
       "--ZNfWKj1VyVElRx6-g1fg                       0                       0   \n",
       "-58xgulrXMhEHcUrKvlIuQ                       0                       0   \n",
       "-5ye1ya0wRQhNRF9NfQ1fA                       0                       0   \n",
       "-ApvB2uyNYkLCvSfwgLF7g                       0                       0   \n",
       "-BevLRnJhh9JeIT2g5I3mQ                       0                       0   \n",
       "\n",
       "business_id             -CQokjildrY7UZezXCdEBw  -FNquqGseSCVMWo7KbK-Tg  \\\n",
       "user_id                                                                  \n",
       "--ZNfWKj1VyVElRx6-g1fg                       0                       0   \n",
       "-58xgulrXMhEHcUrKvlIuQ                       0                       0   \n",
       "-5ye1ya0wRQhNRF9NfQ1fA                       0                       0   \n",
       "-ApvB2uyNYkLCvSfwgLF7g                       0                       0   \n",
       "-BevLRnJhh9JeIT2g5I3mQ                       0                       0   \n",
       "\n",
       "business_id                      ...            zdcesxBdjljRgS0QmCgkBg  \\\n",
       "user_id                          ...                                     \n",
       "--ZNfWKj1VyVElRx6-g1fg           ...                                 0   \n",
       "-58xgulrXMhEHcUrKvlIuQ           ...                                 0   \n",
       "-5ye1ya0wRQhNRF9NfQ1fA           ...                                 0   \n",
       "-ApvB2uyNYkLCvSfwgLF7g           ...                                 0   \n",
       "-BevLRnJhh9JeIT2g5I3mQ           ...                                 0   \n",
       "\n",
       "business_id             zjvnqTjBp56NhMp1GrlO5g  zmltWmTpoBt5sCU-5Kzj-Q  \\\n",
       "user_id                                                                  \n",
       "--ZNfWKj1VyVElRx6-g1fg                       0                       0   \n",
       "-58xgulrXMhEHcUrKvlIuQ                       0                       0   \n",
       "-5ye1ya0wRQhNRF9NfQ1fA                       0                       0   \n",
       "-ApvB2uyNYkLCvSfwgLF7g                       0                       0   \n",
       "-BevLRnJhh9JeIT2g5I3mQ                       0                       0   \n",
       "\n",
       "business_id             znWHLW1pt19HzW1VY6KfCA  zp-K5s3pGTWuuaVBWo6WZA  \\\n",
       "user_id                                                                  \n",
       "--ZNfWKj1VyVElRx6-g1fg                       0                       0   \n",
       "-58xgulrXMhEHcUrKvlIuQ                       3                       0   \n",
       "-5ye1ya0wRQhNRF9NfQ1fA                       0                       0   \n",
       "-ApvB2uyNYkLCvSfwgLF7g                       0                       0   \n",
       "-BevLRnJhh9JeIT2g5I3mQ                       0                       0   \n",
       "\n",
       "business_id             zpoZ6WyQUYff18-z4ZU1mA  zsQk990PubOHjr1YcLkQFw  \\\n",
       "user_id                                                                  \n",
       "--ZNfWKj1VyVElRx6-g1fg                       0                       0   \n",
       "-58xgulrXMhEHcUrKvlIuQ                       0                       0   \n",
       "-5ye1ya0wRQhNRF9NfQ1fA                       0                       0   \n",
       "-ApvB2uyNYkLCvSfwgLF7g                       0                       0   \n",
       "-BevLRnJhh9JeIT2g5I3mQ                       0                       0   \n",
       "\n",
       "business_id             zttcrQP4MxNS5X5itzStXg  zuwba6QEBIDZT0tJZmNhdQ  \\\n",
       "user_id                                                                  \n",
       "--ZNfWKj1VyVElRx6-g1fg                       0                       0   \n",
       "-58xgulrXMhEHcUrKvlIuQ                       0                       0   \n",
       "-5ye1ya0wRQhNRF9NfQ1fA                       0                       0   \n",
       "-ApvB2uyNYkLCvSfwgLF7g                       0                       0   \n",
       "-BevLRnJhh9JeIT2g5I3mQ                       0                       0   \n",
       "\n",
       "business_id             zwNC-Ow4eIMan2__bS9-rg  \n",
       "user_id                                         \n",
       "--ZNfWKj1VyVElRx6-g1fg                       0  \n",
       "-58xgulrXMhEHcUrKvlIuQ                       0  \n",
       "-5ye1ya0wRQhNRF9NfQ1fA                       0  \n",
       "-ApvB2uyNYkLCvSfwgLF7g                       0  \n",
       "-BevLRnJhh9JeIT2g5I3mQ                       0  \n",
       "\n",
       "[5 rows x 2979 columns]"
      ]
     },
     "execution_count": 18,
     "metadata": {},
     "output_type": "execute_result"
    }
   ],
   "source": [
    "df_utility.head()"
   ]
  },
  {
   "cell_type": "code",
   "execution_count": 19,
   "metadata": {},
   "outputs": [
    {
     "data": {
      "text/plain": [
       "(2185,)"
      ]
     },
     "execution_count": 19,
     "metadata": {},
     "output_type": "execute_result"
    }
   ],
   "source": [
    "# get the list of user id by checking out the index of the utility matrix\n",
    "user_id_list = df_utility.index\n",
    "user_id_list.shape"
   ]
  },
  {
   "cell_type": "code",
   "execution_count": 20,
   "metadata": {},
   "outputs": [
    {
     "data": {
      "text/plain": [
       "(2979,)"
      ]
     },
     "execution_count": 20,
     "metadata": {},
     "output_type": "execute_result"
    }
   ],
   "source": [
    "# get the list of item id by checking out the columns of the utility matrix\n",
    "item_id_list = df_utility.columns\n",
    "item_id_list.shape"
   ]
  },
  {
   "cell_type": "markdown",
   "metadata": {},
   "source": [
    "## recommendation system with graphlab"
   ]
  },
  {
   "cell_type": "code",
   "execution_count": 21,
   "metadata": {
    "collapsed": true
   },
   "outputs": [],
   "source": [
    "import graphlab"
   ]
  },
  {
   "cell_type": "markdown",
   "metadata": {},
   "source": [
    "## 2. Item-Item similarity recommender"
   ]
  },
  {
   "cell_type": "code",
   "execution_count": 22,
   "metadata": {},
   "outputs": [
    {
     "name": "stdout",
     "output_type": "stream",
     "text": [
      "This non-commercial license of GraphLab Create for academic use is assigned to yl3449@nyu.edu and will expire on August 28, 2018.\n"
     ]
    },
    {
     "name": "stderr",
     "output_type": "stream",
     "text": [
      "[INFO] graphlab.cython.cy_server: GraphLab Create v2.1 started. Logging: /tmp/graphlab_server_1510717449.log\n"
     ]
    },
    {
     "data": {
      "text/html": [
       "<div style=\"max-height:1000px;max-width:1500px;overflow:auto;\"><table frame=\"box\" rules=\"cols\">\n",
       "    <tr>\n",
       "        <th style=\"padding-left: 1em; padding-right: 1em; text-align: center\">business_id</th>\n",
       "        <th style=\"padding-left: 1em; padding-right: 1em; text-align: center\">user_id</th>\n",
       "        <th style=\"padding-left: 1em; padding-right: 1em; text-align: center\">stars</th>\n",
       "    </tr>\n",
       "    <tr>\n",
       "        <td style=\"padding-left: 1em; padding-right: 1em; text-align: center; vertical-align: top\">--9e1ONYQuAa-CB_Rrw7Tw</td>\n",
       "        <td style=\"padding-left: 1em; padding-right: 1em; text-align: center; vertical-align: top\">nT8zgjoc-PbdBoQsFEXFLw</td>\n",
       "        <td style=\"padding-left: 1em; padding-right: 1em; text-align: center; vertical-align: top\">5</td>\n",
       "    </tr>\n",
       "    <tr>\n",
       "        <td style=\"padding-left: 1em; padding-right: 1em; text-align: center; vertical-align: top\">--9e1ONYQuAa-CB_Rrw7Tw</td>\n",
       "        <td style=\"padding-left: 1em; padding-right: 1em; text-align: center; vertical-align: top\">rOIrilMC7VFwFVBeQNiKMw</td>\n",
       "        <td style=\"padding-left: 1em; padding-right: 1em; text-align: center; vertical-align: top\">3</td>\n",
       "    </tr>\n",
       "    <tr>\n",
       "        <td style=\"padding-left: 1em; padding-right: 1em; text-align: center; vertical-align: top\">--9e1ONYQuAa-CB_Rrw7Tw</td>\n",
       "        <td style=\"padding-left: 1em; padding-right: 1em; text-align: center; vertical-align: top\">ez3GBw83OIgzzgvc0R4jzw</td>\n",
       "        <td style=\"padding-left: 1em; padding-right: 1em; text-align: center; vertical-align: top\">4</td>\n",
       "    </tr>\n",
       "    <tr>\n",
       "        <td style=\"padding-left: 1em; padding-right: 1em; text-align: center; vertical-align: top\">--9e1ONYQuAa-CB_Rrw7Tw</td>\n",
       "        <td style=\"padding-left: 1em; padding-right: 1em; text-align: center; vertical-align: top\">gJrOPH-DSZWY_NX2j6Bugw</td>\n",
       "        <td style=\"padding-left: 1em; padding-right: 1em; text-align: center; vertical-align: top\">5</td>\n",
       "    </tr>\n",
       "    <tr>\n",
       "        <td style=\"padding-left: 1em; padding-right: 1em; text-align: center; vertical-align: top\">--9e1ONYQuAa-CB_Rrw7Tw</td>\n",
       "        <td style=\"padding-left: 1em; padding-right: 1em; text-align: center; vertical-align: top\">3Y_gz3wb7T5ur9FHqxBcgQ</td>\n",
       "        <td style=\"padding-left: 1em; padding-right: 1em; text-align: center; vertical-align: top\">5</td>\n",
       "    </tr>\n",
       "    <tr>\n",
       "        <td style=\"padding-left: 1em; padding-right: 1em; text-align: center; vertical-align: top\">--9e1ONYQuAa-CB_Rrw7Tw</td>\n",
       "        <td style=\"padding-left: 1em; padding-right: 1em; text-align: center; vertical-align: top\">b4bTks98idS6-hx5AT92WQ</td>\n",
       "        <td style=\"padding-left: 1em; padding-right: 1em; text-align: center; vertical-align: top\">5</td>\n",
       "    </tr>\n",
       "    <tr>\n",
       "        <td style=\"padding-left: 1em; padding-right: 1em; text-align: center; vertical-align: top\">--9e1ONYQuAa-CB_Rrw7Tw</td>\n",
       "        <td style=\"padding-left: 1em; padding-right: 1em; text-align: center; vertical-align: top\">quX8U7dnq5YN6h1P04ps4g</td>\n",
       "        <td style=\"padding-left: 1em; padding-right: 1em; text-align: center; vertical-align: top\">5</td>\n",
       "    </tr>\n",
       "    <tr>\n",
       "        <td style=\"padding-left: 1em; padding-right: 1em; text-align: center; vertical-align: top\">--9e1ONYQuAa-CB_Rrw7Tw</td>\n",
       "        <td style=\"padding-left: 1em; padding-right: 1em; text-align: center; vertical-align: top\">gcz5baFhV096VSrB9EESXw</td>\n",
       "        <td style=\"padding-left: 1em; padding-right: 1em; text-align: center; vertical-align: top\">4</td>\n",
       "    </tr>\n",
       "    <tr>\n",
       "        <td style=\"padding-left: 1em; padding-right: 1em; text-align: center; vertical-align: top\">--9e1ONYQuAa-CB_Rrw7Tw</td>\n",
       "        <td style=\"padding-left: 1em; padding-right: 1em; text-align: center; vertical-align: top\">WAzX3AaM6PQfzFJHaUF6xQ</td>\n",
       "        <td style=\"padding-left: 1em; padding-right: 1em; text-align: center; vertical-align: top\">5</td>\n",
       "    </tr>\n",
       "    <tr>\n",
       "        <td style=\"padding-left: 1em; padding-right: 1em; text-align: center; vertical-align: top\">--9e1ONYQuAa-CB_Rrw7Tw</td>\n",
       "        <td style=\"padding-left: 1em; padding-right: 1em; text-align: center; vertical-align: top\">1kr9EZFV3T_l-8KBkfPo5Q</td>\n",
       "        <td style=\"padding-left: 1em; padding-right: 1em; text-align: center; vertical-align: top\">3</td>\n",
       "    </tr>\n",
       "</table>\n",
       "[110462 rows x 3 columns]<br/>Note: Only the head of the SFrame is printed.<br/>You can use print_rows(num_rows=m, num_columns=n) to print more rows and columns.\n",
       "</div>"
      ],
      "text/plain": [
       "Columns:\n",
       "\tbusiness_id\tstr\n",
       "\tuser_id\tstr\n",
       "\tstars\tint\n",
       "\n",
       "Rows: 110462\n",
       "\n",
       "Data:\n",
       "+------------------------+------------------------+-------+\n",
       "|      business_id       |        user_id         | stars |\n",
       "+------------------------+------------------------+-------+\n",
       "| --9e1ONYQuAa-CB_Rrw7Tw | nT8zgjoc-PbdBoQsFEXFLw |   5   |\n",
       "| --9e1ONYQuAa-CB_Rrw7Tw | rOIrilMC7VFwFVBeQNiKMw |   3   |\n",
       "| --9e1ONYQuAa-CB_Rrw7Tw | ez3GBw83OIgzzgvc0R4jzw |   4   |\n",
       "| --9e1ONYQuAa-CB_Rrw7Tw | gJrOPH-DSZWY_NX2j6Bugw |   5   |\n",
       "| --9e1ONYQuAa-CB_Rrw7Tw | 3Y_gz3wb7T5ur9FHqxBcgQ |   5   |\n",
       "| --9e1ONYQuAa-CB_Rrw7Tw | b4bTks98idS6-hx5AT92WQ |   5   |\n",
       "| --9e1ONYQuAa-CB_Rrw7Tw | quX8U7dnq5YN6h1P04ps4g |   5   |\n",
       "| --9e1ONYQuAa-CB_Rrw7Tw | gcz5baFhV096VSrB9EESXw |   4   |\n",
       "| --9e1ONYQuAa-CB_Rrw7Tw | WAzX3AaM6PQfzFJHaUF6xQ |   5   |\n",
       "| --9e1ONYQuAa-CB_Rrw7Tw | 1kr9EZFV3T_l-8KBkfPo5Q |   3   |\n",
       "+------------------------+------------------------+-------+\n",
       "[110462 rows x 3 columns]\n",
       "Note: Only the head of the SFrame is printed.\n",
       "You can use print_rows(num_rows=m, num_columns=n) to print more rows and columns."
      ]
     },
     "execution_count": 22,
     "metadata": {},
     "output_type": "execute_result"
    }
   ],
   "source": [
    "sf_stars = graphlab.SFrame(df_stars)\n",
    "sf_stars # SFrame similar to DataFrame"
   ]
  },
  {
   "cell_type": "code",
   "execution_count": 23,
   "metadata": {},
   "outputs": [
    {
     "data": {
      "text/html": [
       "<pre>Recsys training: model = item_similarity</pre>"
      ],
      "text/plain": [
       "Recsys training: model = item_similarity"
      ]
     },
     "metadata": {},
     "output_type": "display_data"
    },
    {
     "data": {
      "text/html": [
       "<pre>Preparing data set.</pre>"
      ],
      "text/plain": [
       "Preparing data set."
      ]
     },
     "metadata": {},
     "output_type": "display_data"
    },
    {
     "data": {
      "text/html": [
       "<pre>    Data has 110462 observations with 62934 users and 3787 items.</pre>"
      ],
      "text/plain": [
       "    Data has 110462 observations with 62934 users and 3787 items."
      ]
     },
     "metadata": {},
     "output_type": "display_data"
    },
    {
     "data": {
      "text/html": [
       "<pre>    Data prepared in: 0.329098s</pre>"
      ],
      "text/plain": [
       "    Data prepared in: 0.329098s"
      ]
     },
     "metadata": {},
     "output_type": "display_data"
    },
    {
     "data": {
      "text/html": [
       "<pre>Training model from provided data.</pre>"
      ],
      "text/plain": [
       "Training model from provided data."
      ]
     },
     "metadata": {},
     "output_type": "display_data"
    },
    {
     "data": {
      "text/html": [
       "<pre>Gathering per-item and per-user statistics.</pre>"
      ],
      "text/plain": [
       "Gathering per-item and per-user statistics."
      ]
     },
     "metadata": {},
     "output_type": "display_data"
    },
    {
     "data": {
      "text/html": [
       "<pre>+--------------------------------+------------+</pre>"
      ],
      "text/plain": [
       "+--------------------------------+------------+"
      ]
     },
     "metadata": {},
     "output_type": "display_data"
    },
    {
     "data": {
      "text/html": [
       "<pre>| Elapsed Time (Item Statistics) | % Complete |</pre>"
      ],
      "text/plain": [
       "| Elapsed Time (Item Statistics) | % Complete |"
      ]
     },
     "metadata": {},
     "output_type": "display_data"
    },
    {
     "data": {
      "text/html": [
       "<pre>+--------------------------------+------------+</pre>"
      ],
      "text/plain": [
       "+--------------------------------+------------+"
      ]
     },
     "metadata": {},
     "output_type": "display_data"
    },
    {
     "data": {
      "text/html": [
       "<pre>| 1.682ms                        | 6.25       |</pre>"
      ],
      "text/plain": [
       "| 1.682ms                        | 6.25       |"
      ]
     },
     "metadata": {},
     "output_type": "display_data"
    },
    {
     "data": {
      "text/html": [
       "<pre>| 10.737ms                       | 100        |</pre>"
      ],
      "text/plain": [
       "| 10.737ms                       | 100        |"
      ]
     },
     "metadata": {},
     "output_type": "display_data"
    },
    {
     "data": {
      "text/html": [
       "<pre>+--------------------------------+------------+</pre>"
      ],
      "text/plain": [
       "+--------------------------------+------------+"
      ]
     },
     "metadata": {},
     "output_type": "display_data"
    },
    {
     "data": {
      "text/html": [
       "<pre>Setting up lookup tables.</pre>"
      ],
      "text/plain": [
       "Setting up lookup tables."
      ]
     },
     "metadata": {},
     "output_type": "display_data"
    },
    {
     "data": {
      "text/html": [
       "<pre>Processing data in one pass using dense lookup tables.</pre>"
      ],
      "text/plain": [
       "Processing data in one pass using dense lookup tables."
      ]
     },
     "metadata": {},
     "output_type": "display_data"
    },
    {
     "data": {
      "text/html": [
       "<pre>+-------------------------------------+------------------+-----------------+</pre>"
      ],
      "text/plain": [
       "+-------------------------------------+------------------+-----------------+"
      ]
     },
     "metadata": {},
     "output_type": "display_data"
    },
    {
     "data": {
      "text/html": [
       "<pre>| Elapsed Time (Constructing Lookups) | Total % Complete | Items Processed |</pre>"
      ],
      "text/plain": [
       "| Elapsed Time (Constructing Lookups) | Total % Complete | Items Processed |"
      ]
     },
     "metadata": {},
     "output_type": "display_data"
    },
    {
     "data": {
      "text/html": [
       "<pre>+-------------------------------------+------------------+-----------------+</pre>"
      ],
      "text/plain": [
       "+-------------------------------------+------------------+-----------------+"
      ]
     },
     "metadata": {},
     "output_type": "display_data"
    },
    {
     "data": {
      "text/html": [
       "<pre>| 24.953ms                            | 0                | 0               |</pre>"
      ],
      "text/plain": [
       "| 24.953ms                            | 0                | 0               |"
      ]
     },
     "metadata": {},
     "output_type": "display_data"
    },
    {
     "data": {
      "text/html": [
       "<pre>| 68.973ms                            | 100              | 3787            |</pre>"
      ],
      "text/plain": [
       "| 68.973ms                            | 100              | 3787            |"
      ]
     },
     "metadata": {},
     "output_type": "display_data"
    },
    {
     "data": {
      "text/html": [
       "<pre>+-------------------------------------+------------------+-----------------+</pre>"
      ],
      "text/plain": [
       "+-------------------------------------+------------------+-----------------+"
      ]
     },
     "metadata": {},
     "output_type": "display_data"
    },
    {
     "data": {
      "text/html": [
       "<pre>Finalizing lookup tables.</pre>"
      ],
      "text/plain": [
       "Finalizing lookup tables."
      ]
     },
     "metadata": {},
     "output_type": "display_data"
    },
    {
     "data": {
      "text/html": [
       "<pre>Generating candidate set for working with new users.</pre>"
      ],
      "text/plain": [
       "Generating candidate set for working with new users."
      ]
     },
     "metadata": {},
     "output_type": "display_data"
    },
    {
     "data": {
      "text/html": [
       "<pre>Finished training in 1.09188s</pre>"
      ],
      "text/plain": [
       "Finished training in 1.09188s"
      ]
     },
     "metadata": {},
     "output_type": "display_data"
    }
   ],
   "source": [
    "# item-item recommender\n",
    "item_item_rec = graphlab.recommender.item_similarity_recommender.create(sf_stars,\n",
    "                                                                        user_id='user_id',\n",
    "                                                                        item_id='business_id',\n",
    "                                                                        target = 'stars')"
   ]
  },
  {
   "cell_type": "code",
   "execution_count": 24,
   "metadata": {
    "collapsed": true
   },
   "outputs": [],
   "source": [
    "item_item_rec_result = item_item_rec.recommend(k=3, verbose=False)"
   ]
  },
  {
   "cell_type": "code",
   "execution_count": 25,
   "metadata": {},
   "outputs": [
    {
     "data": {
      "text/html": [
       "<div style=\"max-height:1000px;max-width:1500px;overflow:auto;\"><table frame=\"box\" rules=\"cols\">\n",
       "    <tr>\n",
       "        <th style=\"padding-left: 1em; padding-right: 1em; text-align: center\">user_id</th>\n",
       "        <th style=\"padding-left: 1em; padding-right: 1em; text-align: center\">business_id</th>\n",
       "        <th style=\"padding-left: 1em; padding-right: 1em; text-align: center\">score</th>\n",
       "        <th style=\"padding-left: 1em; padding-right: 1em; text-align: center\">rank</th>\n",
       "    </tr>\n",
       "    <tr>\n",
       "        <td style=\"padding-left: 1em; padding-right: 1em; text-align: center; vertical-align: top\">nT8zgjoc-PbdBoQsFEXFLw</td>\n",
       "        <td style=\"padding-left: 1em; padding-right: 1em; text-align: center; vertical-align: top\">IZivKqtHyz4-ts8KsnvMrA</td>\n",
       "        <td style=\"padding-left: 1em; padding-right: 1em; text-align: center; vertical-align: top\">0.0194174647331</td>\n",
       "        <td style=\"padding-left: 1em; padding-right: 1em; text-align: center; vertical-align: top\">1</td>\n",
       "    </tr>\n",
       "    <tr>\n",
       "        <td style=\"padding-left: 1em; padding-right: 1em; text-align: center; vertical-align: top\">nT8zgjoc-PbdBoQsFEXFLw</td>\n",
       "        <td style=\"padding-left: 1em; padding-right: 1em; text-align: center; vertical-align: top\">6Z6IyosSMciZtwk8hRLRag</td>\n",
       "        <td style=\"padding-left: 1em; padding-right: 1em; text-align: center; vertical-align: top\">0.018691599369</td>\n",
       "        <td style=\"padding-left: 1em; padding-right: 1em; text-align: center; vertical-align: top\">2</td>\n",
       "    </tr>\n",
       "    <tr>\n",
       "        <td style=\"padding-left: 1em; padding-right: 1em; text-align: center; vertical-align: top\">nT8zgjoc-PbdBoQsFEXFLw</td>\n",
       "        <td style=\"padding-left: 1em; padding-right: 1em; text-align: center; vertical-align: top\">LtXy1VinKWfuLFslVarKRw</td>\n",
       "        <td style=\"padding-left: 1em; padding-right: 1em; text-align: center; vertical-align: top\">0.0161290168762</td>\n",
       "        <td style=\"padding-left: 1em; padding-right: 1em; text-align: center; vertical-align: top\">3</td>\n",
       "    </tr>\n",
       "    <tr>\n",
       "        <td style=\"padding-left: 1em; padding-right: 1em; text-align: center; vertical-align: top\">rOIrilMC7VFwFVBeQNiKMw</td>\n",
       "        <td style=\"padding-left: 1em; padding-right: 1em; text-align: center; vertical-align: top\">IZivKqtHyz4-ts8KsnvMrA</td>\n",
       "        <td style=\"padding-left: 1em; padding-right: 1em; text-align: center; vertical-align: top\">0.0190984010696</td>\n",
       "        <td style=\"padding-left: 1em; padding-right: 1em; text-align: center; vertical-align: top\">1</td>\n",
       "    </tr>\n",
       "    <tr>\n",
       "        <td style=\"padding-left: 1em; padding-right: 1em; text-align: center; vertical-align: top\">rOIrilMC7VFwFVBeQNiKMw</td>\n",
       "        <td style=\"padding-left: 1em; padding-right: 1em; text-align: center; vertical-align: top\">KNTjauGqmib3sG1HWJyKEQ</td>\n",
       "        <td style=\"padding-left: 1em; padding-right: 1em; text-align: center; vertical-align: top\">0.0172413885593</td>\n",
       "        <td style=\"padding-left: 1em; padding-right: 1em; text-align: center; vertical-align: top\">2</td>\n",
       "    </tr>\n",
       "    <tr>\n",
       "        <td style=\"padding-left: 1em; padding-right: 1em; text-align: center; vertical-align: top\">rOIrilMC7VFwFVBeQNiKMw</td>\n",
       "        <td style=\"padding-left: 1em; padding-right: 1em; text-align: center; vertical-align: top\">eaNenRk_liZBERFFLCXqqQ</td>\n",
       "        <td style=\"padding-left: 1em; padding-right: 1em; text-align: center; vertical-align: top\">0.0120689570904</td>\n",
       "        <td style=\"padding-left: 1em; padding-right: 1em; text-align: center; vertical-align: top\">3</td>\n",
       "    </tr>\n",
       "    <tr>\n",
       "        <td style=\"padding-left: 1em; padding-right: 1em; text-align: center; vertical-align: top\">ez3GBw83OIgzzgvc0R4jzw</td>\n",
       "        <td style=\"padding-left: 1em; padding-right: 1em; text-align: center; vertical-align: top\">IZivKqtHyz4-ts8KsnvMrA</td>\n",
       "        <td style=\"padding-left: 1em; padding-right: 1em; text-align: center; vertical-align: top\">0.0194174647331</td>\n",
       "        <td style=\"padding-left: 1em; padding-right: 1em; text-align: center; vertical-align: top\">1</td>\n",
       "    </tr>\n",
       "    <tr>\n",
       "        <td style=\"padding-left: 1em; padding-right: 1em; text-align: center; vertical-align: top\">ez3GBw83OIgzzgvc0R4jzw</td>\n",
       "        <td style=\"padding-left: 1em; padding-right: 1em; text-align: center; vertical-align: top\">6Z6IyosSMciZtwk8hRLRag</td>\n",
       "        <td style=\"padding-left: 1em; padding-right: 1em; text-align: center; vertical-align: top\">0.018691599369</td>\n",
       "        <td style=\"padding-left: 1em; padding-right: 1em; text-align: center; vertical-align: top\">2</td>\n",
       "    </tr>\n",
       "    <tr>\n",
       "        <td style=\"padding-left: 1em; padding-right: 1em; text-align: center; vertical-align: top\">ez3GBw83OIgzzgvc0R4jzw</td>\n",
       "        <td style=\"padding-left: 1em; padding-right: 1em; text-align: center; vertical-align: top\">LtXy1VinKWfuLFslVarKRw</td>\n",
       "        <td style=\"padding-left: 1em; padding-right: 1em; text-align: center; vertical-align: top\">0.0161290168762</td>\n",
       "        <td style=\"padding-left: 1em; padding-right: 1em; text-align: center; vertical-align: top\">3</td>\n",
       "    </tr>\n",
       "    <tr>\n",
       "        <td style=\"padding-left: 1em; padding-right: 1em; text-align: center; vertical-align: top\">gJrOPH-DSZWY_NX2j6Bugw</td>\n",
       "        <td style=\"padding-left: 1em; padding-right: 1em; text-align: center; vertical-align: top\">IZivKqtHyz4-ts8KsnvMrA</td>\n",
       "        <td style=\"padding-left: 1em; padding-right: 1em; text-align: center; vertical-align: top\">0.0194174647331</td>\n",
       "        <td style=\"padding-left: 1em; padding-right: 1em; text-align: center; vertical-align: top\">1</td>\n",
       "    </tr>\n",
       "</table>\n",
       "[188802 rows x 4 columns]<br/>Note: Only the head of the SFrame is printed.<br/>You can use print_rows(num_rows=m, num_columns=n) to print more rows and columns.\n",
       "</div>"
      ],
      "text/plain": [
       "Columns:\n",
       "\tuser_id\tstr\n",
       "\tbusiness_id\tstr\n",
       "\tscore\tfloat\n",
       "\trank\tint\n",
       "\n",
       "Rows: 188802\n",
       "\n",
       "Data:\n",
       "+------------------------+------------------------+-----------------+------+\n",
       "|        user_id         |      business_id       |      score      | rank |\n",
       "+------------------------+------------------------+-----------------+------+\n",
       "| nT8zgjoc-PbdBoQsFEXFLw | IZivKqtHyz4-ts8KsnvMrA | 0.0194174647331 |  1   |\n",
       "| nT8zgjoc-PbdBoQsFEXFLw | 6Z6IyosSMciZtwk8hRLRag |  0.018691599369 |  2   |\n",
       "| nT8zgjoc-PbdBoQsFEXFLw | LtXy1VinKWfuLFslVarKRw | 0.0161290168762 |  3   |\n",
       "| rOIrilMC7VFwFVBeQNiKMw | IZivKqtHyz4-ts8KsnvMrA | 0.0190984010696 |  1   |\n",
       "| rOIrilMC7VFwFVBeQNiKMw | KNTjauGqmib3sG1HWJyKEQ | 0.0172413885593 |  2   |\n",
       "| rOIrilMC7VFwFVBeQNiKMw | eaNenRk_liZBERFFLCXqqQ | 0.0120689570904 |  3   |\n",
       "| ez3GBw83OIgzzgvc0R4jzw | IZivKqtHyz4-ts8KsnvMrA | 0.0194174647331 |  1   |\n",
       "| ez3GBw83OIgzzgvc0R4jzw | 6Z6IyosSMciZtwk8hRLRag |  0.018691599369 |  2   |\n",
       "| ez3GBw83OIgzzgvc0R4jzw | LtXy1VinKWfuLFslVarKRw | 0.0161290168762 |  3   |\n",
       "| gJrOPH-DSZWY_NX2j6Bugw | IZivKqtHyz4-ts8KsnvMrA | 0.0194174647331 |  1   |\n",
       "+------------------------+------------------------+-----------------+------+\n",
       "[188802 rows x 4 columns]\n",
       "Note: Only the head of the SFrame is printed.\n",
       "You can use print_rows(num_rows=m, num_columns=n) to print more rows and columns."
      ]
     },
     "execution_count": 25,
     "metadata": {},
     "output_type": "execute_result"
    }
   ],
   "source": [
    "item_item_rec_result"
   ]
  },
  {
   "cell_type": "markdown",
   "metadata": {},
   "source": [
    "# 3. Content-based recommender"
   ]
  },
  {
   "cell_type": "markdown",
   "metadata": {},
   "source": [
    "### extract some feature for recommender"
   ]
  },
  {
   "cell_type": "code",
   "execution_count": 26,
   "metadata": {},
   "outputs": [
    {
     "data": {
      "text/html": [
       "<div>\n",
       "<table border=\"1\" class=\"dataframe\">\n",
       "  <thead>\n",
       "    <tr style=\"text-align: right;\">\n",
       "      <th></th>\n",
       "      <th>avg_stars</th>\n",
       "      <th>cool</th>\n",
       "      <th>funny</th>\n",
       "      <th>stars</th>\n",
       "      <th>useful</th>\n",
       "    </tr>\n",
       "    <tr>\n",
       "      <th>business_id</th>\n",
       "      <th></th>\n",
       "      <th></th>\n",
       "      <th></th>\n",
       "      <th></th>\n",
       "      <th></th>\n",
       "    </tr>\n",
       "  </thead>\n",
       "  <tbody>\n",
       "    <tr>\n",
       "      <th>--9e1ONYQuAa-CB_Rrw7Tw</th>\n",
       "      <td>4.0</td>\n",
       "      <td>0.578313</td>\n",
       "      <td>0.301205</td>\n",
       "      <td>4.012048</td>\n",
       "      <td>0.674699</td>\n",
       "    </tr>\n",
       "    <tr>\n",
       "      <th>-3zffZUHoY8bQjGfPSoBKQ</th>\n",
       "      <td>4.0</td>\n",
       "      <td>0.394737</td>\n",
       "      <td>0.263158</td>\n",
       "      <td>4.157895</td>\n",
       "      <td>0.921053</td>\n",
       "    </tr>\n",
       "    <tr>\n",
       "      <th>-8R_-EkGpUhBk55K9Dd4mg</th>\n",
       "      <td>3.5</td>\n",
       "      <td>1.733333</td>\n",
       "      <td>1.533333</td>\n",
       "      <td>3.800000</td>\n",
       "      <td>1.866667</td>\n",
       "    </tr>\n",
       "    <tr>\n",
       "      <th>-9YyInW1wapzdNZrhQJ9dg</th>\n",
       "      <td>2.5</td>\n",
       "      <td>0.120000</td>\n",
       "      <td>0.040000</td>\n",
       "      <td>2.880000</td>\n",
       "      <td>0.360000</td>\n",
       "    </tr>\n",
       "    <tr>\n",
       "      <th>-AD5PiuJHgdUcAK-Vxao2A</th>\n",
       "      <td>3.5</td>\n",
       "      <td>0.272727</td>\n",
       "      <td>0.000000</td>\n",
       "      <td>3.818182</td>\n",
       "      <td>0.181818</td>\n",
       "    </tr>\n",
       "  </tbody>\n",
       "</table>\n",
       "</div>"
      ],
      "text/plain": [
       "                        avg_stars      cool     funny     stars    useful\n",
       "business_id                                                              \n",
       "--9e1ONYQuAa-CB_Rrw7Tw        4.0  0.578313  0.301205  4.012048  0.674699\n",
       "-3zffZUHoY8bQjGfPSoBKQ        4.0  0.394737  0.263158  4.157895  0.921053\n",
       "-8R_-EkGpUhBk55K9Dd4mg        3.5  1.733333  1.533333  3.800000  1.866667\n",
       "-9YyInW1wapzdNZrhQJ9dg        2.5  0.120000  0.040000  2.880000  0.360000\n",
       "-AD5PiuJHgdUcAK-Vxao2A        3.5  0.272727  0.000000  3.818182  0.181818"
      ]
     },
     "execution_count": 26,
     "metadata": {},
     "output_type": "execute_result"
    }
   ],
   "source": [
    "# group by business_id, then average numerical features\n",
    "\n",
    "df_average = df.groupby(['business_id']).mean()\n",
    "df_average.head()"
   ]
  },
  {
   "cell_type": "code",
   "execution_count": 27,
   "metadata": {
    "scrolled": true
   },
   "outputs": [
    {
     "data": {
      "text/plain": [
       "business_id\n",
       "--9e1ONYQuAa-CB_Rrw7Tw           [[Steakhouses, Cajun/Creole, Restaurants]]\n",
       "-3zffZUHoY8bQjGfPSoBKQ    [[Seafood, Bars, Nightlife, American (New), Re...\n",
       "-8R_-EkGpUhBk55K9Dd4mg                                [[Restaurants, Thai]]\n",
       "-9YyInW1wapzdNZrhQJ9dg                             [[Buffets, Restaurants]]\n",
       "-AD5PiuJHgdUcAK-Vxao2A                             [[Burgers, Restaurants]]\n",
       "Name: categories, dtype: object"
      ]
     },
     "execution_count": 27,
     "metadata": {},
     "output_type": "execute_result"
    }
   ],
   "source": [
    "# group by business_id, extract categories data\n",
    "\n",
    "categories_series = df.groupby(['business_id']).categories.apply(np.unique)\n",
    "categories_series.head()"
   ]
  },
  {
   "cell_type": "code",
   "execution_count": 28,
   "metadata": {
    "collapsed": true,
    "scrolled": true
   },
   "outputs": [],
   "source": [
    "# convert categories data to string remove `[]`\n",
    "categories_series = categories_series.str.join('').apply(lambda x: x[1:-1])"
   ]
  },
  {
   "cell_type": "code",
   "execution_count": 29,
   "metadata": {},
   "outputs": [
    {
     "data": {
      "text/html": [
       "<div>\n",
       "<table border=\"1\" class=\"dataframe\">\n",
       "  <thead>\n",
       "    <tr style=\"text-align: right;\">\n",
       "      <th></th>\n",
       "      <th>acai</th>\n",
       "      <th>active</th>\n",
       "      <th>activities</th>\n",
       "      <th>acupuncture</th>\n",
       "      <th>adult</th>\n",
       "      <th>afghan</th>\n",
       "      <th>african</th>\n",
       "      <th>air</th>\n",
       "      <th>aircraft</th>\n",
       "      <th>airport</th>\n",
       "      <th>...</th>\n",
       "      <th>wedding</th>\n",
       "      <th>weight</th>\n",
       "      <th>windshield</th>\n",
       "      <th>wine</th>\n",
       "      <th>wineries</th>\n",
       "      <th>wings</th>\n",
       "      <th>women</th>\n",
       "      <th>wraps</th>\n",
       "      <th>yogurt</th>\n",
       "      <th>yourself</th>\n",
       "    </tr>\n",
       "    <tr>\n",
       "      <th>business_id</th>\n",
       "      <th></th>\n",
       "      <th></th>\n",
       "      <th></th>\n",
       "      <th></th>\n",
       "      <th></th>\n",
       "      <th></th>\n",
       "      <th></th>\n",
       "      <th></th>\n",
       "      <th></th>\n",
       "      <th></th>\n",
       "      <th></th>\n",
       "      <th></th>\n",
       "      <th></th>\n",
       "      <th></th>\n",
       "      <th></th>\n",
       "      <th></th>\n",
       "      <th></th>\n",
       "      <th></th>\n",
       "      <th></th>\n",
       "      <th></th>\n",
       "      <th></th>\n",
       "    </tr>\n",
       "  </thead>\n",
       "  <tbody>\n",
       "    <tr>\n",
       "      <th>--9e1ONYQuAa-CB_Rrw7Tw</th>\n",
       "      <td>0</td>\n",
       "      <td>0</td>\n",
       "      <td>0</td>\n",
       "      <td>0</td>\n",
       "      <td>0</td>\n",
       "      <td>0</td>\n",
       "      <td>0</td>\n",
       "      <td>0</td>\n",
       "      <td>0</td>\n",
       "      <td>0</td>\n",
       "      <td>...</td>\n",
       "      <td>0</td>\n",
       "      <td>0</td>\n",
       "      <td>0</td>\n",
       "      <td>0</td>\n",
       "      <td>0</td>\n",
       "      <td>0</td>\n",
       "      <td>0</td>\n",
       "      <td>0</td>\n",
       "      <td>0</td>\n",
       "      <td>0</td>\n",
       "    </tr>\n",
       "    <tr>\n",
       "      <th>-3zffZUHoY8bQjGfPSoBKQ</th>\n",
       "      <td>0</td>\n",
       "      <td>0</td>\n",
       "      <td>0</td>\n",
       "      <td>0</td>\n",
       "      <td>0</td>\n",
       "      <td>0</td>\n",
       "      <td>0</td>\n",
       "      <td>0</td>\n",
       "      <td>0</td>\n",
       "      <td>0</td>\n",
       "      <td>...</td>\n",
       "      <td>0</td>\n",
       "      <td>0</td>\n",
       "      <td>0</td>\n",
       "      <td>0</td>\n",
       "      <td>0</td>\n",
       "      <td>0</td>\n",
       "      <td>0</td>\n",
       "      <td>0</td>\n",
       "      <td>0</td>\n",
       "      <td>0</td>\n",
       "    </tr>\n",
       "    <tr>\n",
       "      <th>-8R_-EkGpUhBk55K9Dd4mg</th>\n",
       "      <td>0</td>\n",
       "      <td>0</td>\n",
       "      <td>0</td>\n",
       "      <td>0</td>\n",
       "      <td>0</td>\n",
       "      <td>0</td>\n",
       "      <td>0</td>\n",
       "      <td>0</td>\n",
       "      <td>0</td>\n",
       "      <td>0</td>\n",
       "      <td>...</td>\n",
       "      <td>0</td>\n",
       "      <td>0</td>\n",
       "      <td>0</td>\n",
       "      <td>0</td>\n",
       "      <td>0</td>\n",
       "      <td>0</td>\n",
       "      <td>0</td>\n",
       "      <td>0</td>\n",
       "      <td>0</td>\n",
       "      <td>0</td>\n",
       "    </tr>\n",
       "    <tr>\n",
       "      <th>-9YyInW1wapzdNZrhQJ9dg</th>\n",
       "      <td>0</td>\n",
       "      <td>0</td>\n",
       "      <td>0</td>\n",
       "      <td>0</td>\n",
       "      <td>0</td>\n",
       "      <td>0</td>\n",
       "      <td>0</td>\n",
       "      <td>0</td>\n",
       "      <td>0</td>\n",
       "      <td>0</td>\n",
       "      <td>...</td>\n",
       "      <td>0</td>\n",
       "      <td>0</td>\n",
       "      <td>0</td>\n",
       "      <td>0</td>\n",
       "      <td>0</td>\n",
       "      <td>0</td>\n",
       "      <td>0</td>\n",
       "      <td>0</td>\n",
       "      <td>0</td>\n",
       "      <td>0</td>\n",
       "    </tr>\n",
       "    <tr>\n",
       "      <th>-AD5PiuJHgdUcAK-Vxao2A</th>\n",
       "      <td>0</td>\n",
       "      <td>0</td>\n",
       "      <td>0</td>\n",
       "      <td>0</td>\n",
       "      <td>0</td>\n",
       "      <td>0</td>\n",
       "      <td>0</td>\n",
       "      <td>0</td>\n",
       "      <td>0</td>\n",
       "      <td>0</td>\n",
       "      <td>...</td>\n",
       "      <td>0</td>\n",
       "      <td>0</td>\n",
       "      <td>0</td>\n",
       "      <td>0</td>\n",
       "      <td>0</td>\n",
       "      <td>0</td>\n",
       "      <td>0</td>\n",
       "      <td>0</td>\n",
       "      <td>0</td>\n",
       "      <td>0</td>\n",
       "    </tr>\n",
       "  </tbody>\n",
       "</table>\n",
       "<p>5 rows × 425 columns</p>\n",
       "</div>"
      ],
      "text/plain": [
       "                        acai  active  activities  acupuncture  adult  afghan  \\\n",
       "business_id                                                                    \n",
       "--9e1ONYQuAa-CB_Rrw7Tw     0       0           0            0      0       0   \n",
       "-3zffZUHoY8bQjGfPSoBKQ     0       0           0            0      0       0   \n",
       "-8R_-EkGpUhBk55K9Dd4mg     0       0           0            0      0       0   \n",
       "-9YyInW1wapzdNZrhQJ9dg     0       0           0            0      0       0   \n",
       "-AD5PiuJHgdUcAK-Vxao2A     0       0           0            0      0       0   \n",
       "\n",
       "                        african  air  aircraft  airport    ...     wedding  \\\n",
       "business_id                                                ...               \n",
       "--9e1ONYQuAa-CB_Rrw7Tw        0    0         0        0    ...           0   \n",
       "-3zffZUHoY8bQjGfPSoBKQ        0    0         0        0    ...           0   \n",
       "-8R_-EkGpUhBk55K9Dd4mg        0    0         0        0    ...           0   \n",
       "-9YyInW1wapzdNZrhQJ9dg        0    0         0        0    ...           0   \n",
       "-AD5PiuJHgdUcAK-Vxao2A        0    0         0        0    ...           0   \n",
       "\n",
       "                        weight  windshield  wine  wineries  wings  women  \\\n",
       "business_id                                                                \n",
       "--9e1ONYQuAa-CB_Rrw7Tw       0           0     0         0      0      0   \n",
       "-3zffZUHoY8bQjGfPSoBKQ       0           0     0         0      0      0   \n",
       "-8R_-EkGpUhBk55K9Dd4mg       0           0     0         0      0      0   \n",
       "-9YyInW1wapzdNZrhQJ9dg       0           0     0         0      0      0   \n",
       "-AD5PiuJHgdUcAK-Vxao2A       0           0     0         0      0      0   \n",
       "\n",
       "                        wraps  yogurt  yourself  \n",
       "business_id                                      \n",
       "--9e1ONYQuAa-CB_Rrw7Tw      0       0         0  \n",
       "-3zffZUHoY8bQjGfPSoBKQ      0       0         0  \n",
       "-8R_-EkGpUhBk55K9Dd4mg      0       0         0  \n",
       "-9YyInW1wapzdNZrhQJ9dg      0       0         0  \n",
       "-AD5PiuJHgdUcAK-Vxao2A      0       0         0  \n",
       "\n",
       "[5 rows x 425 columns]"
      ]
     },
     "execution_count": 29,
     "metadata": {},
     "output_type": "execute_result"
    }
   ],
   "source": [
    "# business_id, categories table\n",
    "from sklearn.feature_extraction.text import CountVectorizer\n",
    "\n",
    "vectorizer = CountVectorizer()\n",
    "categories_mat = vectorizer.fit_transform(categories_series).toarray()\n",
    "categories = vectorizer.get_feature_names()\n",
    "df_categories = pd.DataFrame(categories_mat,\n",
    "                             columns=categories, \n",
    "                             index=categories_series.index)\n",
    "df_categories.head()"
   ]
  },
  {
   "cell_type": "code",
   "execution_count": 30,
   "metadata": {},
   "outputs": [
    {
     "name": "stdout",
     "output_type": "stream",
     "text": [
      "0.981483389312\n"
     ]
    },
    {
     "data": {
      "text/html": [
       "<div>\n",
       "<table border=\"1\" class=\"dataframe\">\n",
       "  <thead>\n",
       "    <tr style=\"text-align: right;\">\n",
       "      <th></th>\n",
       "      <th>0</th>\n",
       "      <th>1</th>\n",
       "      <th>2</th>\n",
       "      <th>3</th>\n",
       "      <th>4</th>\n",
       "      <th>5</th>\n",
       "      <th>6</th>\n",
       "      <th>7</th>\n",
       "      <th>8</th>\n",
       "      <th>9</th>\n",
       "      <th>...</th>\n",
       "      <th>140</th>\n",
       "      <th>141</th>\n",
       "      <th>142</th>\n",
       "      <th>143</th>\n",
       "      <th>144</th>\n",
       "      <th>145</th>\n",
       "      <th>146</th>\n",
       "      <th>147</th>\n",
       "      <th>148</th>\n",
       "      <th>149</th>\n",
       "    </tr>\n",
       "    <tr>\n",
       "      <th>business_id</th>\n",
       "      <th></th>\n",
       "      <th></th>\n",
       "      <th></th>\n",
       "      <th></th>\n",
       "      <th></th>\n",
       "      <th></th>\n",
       "      <th></th>\n",
       "      <th></th>\n",
       "      <th></th>\n",
       "      <th></th>\n",
       "      <th></th>\n",
       "      <th></th>\n",
       "      <th></th>\n",
       "      <th></th>\n",
       "      <th></th>\n",
       "      <th></th>\n",
       "      <th></th>\n",
       "      <th></th>\n",
       "      <th></th>\n",
       "      <th></th>\n",
       "      <th></th>\n",
       "    </tr>\n",
       "  </thead>\n",
       "  <tbody>\n",
       "    <tr>\n",
       "      <th>--9e1ONYQuAa-CB_Rrw7Tw</th>\n",
       "      <td>0.733138</td>\n",
       "      <td>0.021489</td>\n",
       "      <td>-0.423815</td>\n",
       "      <td>-0.462291</td>\n",
       "      <td>0.015708</td>\n",
       "      <td>0.013803</td>\n",
       "      <td>0.037292</td>\n",
       "      <td>-0.114676</td>\n",
       "      <td>0.069997</td>\n",
       "      <td>0.035365</td>\n",
       "      <td>...</td>\n",
       "      <td>0.006857</td>\n",
       "      <td>-0.000868</td>\n",
       "      <td>0.002239</td>\n",
       "      <td>0.006650</td>\n",
       "      <td>0.005842</td>\n",
       "      <td>-0.002342</td>\n",
       "      <td>-0.020052</td>\n",
       "      <td>-0.000159</td>\n",
       "      <td>0.006176</td>\n",
       "      <td>0.003271</td>\n",
       "    </tr>\n",
       "    <tr>\n",
       "      <th>-3zffZUHoY8bQjGfPSoBKQ</th>\n",
       "      <td>1.511547</td>\n",
       "      <td>1.338673</td>\n",
       "      <td>-0.025949</td>\n",
       "      <td>0.163352</td>\n",
       "      <td>-0.041222</td>\n",
       "      <td>-0.235246</td>\n",
       "      <td>0.118782</td>\n",
       "      <td>-0.278485</td>\n",
       "      <td>-0.072936</td>\n",
       "      <td>0.436694</td>\n",
       "      <td>...</td>\n",
       "      <td>-0.009054</td>\n",
       "      <td>-0.010682</td>\n",
       "      <td>0.000332</td>\n",
       "      <td>-0.005104</td>\n",
       "      <td>-0.007077</td>\n",
       "      <td>0.012808</td>\n",
       "      <td>-0.003127</td>\n",
       "      <td>0.007614</td>\n",
       "      <td>0.006368</td>\n",
       "      <td>0.001309</td>\n",
       "    </tr>\n",
       "    <tr>\n",
       "      <th>-8R_-EkGpUhBk55K9Dd4mg</th>\n",
       "      <td>0.709290</td>\n",
       "      <td>-0.014500</td>\n",
       "      <td>-0.411688</td>\n",
       "      <td>-0.482273</td>\n",
       "      <td>-0.001198</td>\n",
       "      <td>0.044376</td>\n",
       "      <td>0.038185</td>\n",
       "      <td>-0.104923</td>\n",
       "      <td>0.093977</td>\n",
       "      <td>0.026509</td>\n",
       "      <td>...</td>\n",
       "      <td>-0.004226</td>\n",
       "      <td>0.003561</td>\n",
       "      <td>-0.008718</td>\n",
       "      <td>0.007682</td>\n",
       "      <td>0.001178</td>\n",
       "      <td>0.000242</td>\n",
       "      <td>0.000823</td>\n",
       "      <td>0.002218</td>\n",
       "      <td>0.001461</td>\n",
       "      <td>0.005446</td>\n",
       "    </tr>\n",
       "    <tr>\n",
       "      <th>-9YyInW1wapzdNZrhQJ9dg</th>\n",
       "      <td>0.707311</td>\n",
       "      <td>-0.004842</td>\n",
       "      <td>-0.420380</td>\n",
       "      <td>-0.469023</td>\n",
       "      <td>-0.001920</td>\n",
       "      <td>0.040321</td>\n",
       "      <td>0.029455</td>\n",
       "      <td>-0.074550</td>\n",
       "      <td>0.061972</td>\n",
       "      <td>0.015757</td>\n",
       "      <td>...</td>\n",
       "      <td>-0.006390</td>\n",
       "      <td>0.000974</td>\n",
       "      <td>0.000955</td>\n",
       "      <td>0.007298</td>\n",
       "      <td>0.008184</td>\n",
       "      <td>-0.002770</td>\n",
       "      <td>0.000983</td>\n",
       "      <td>0.001991</td>\n",
       "      <td>0.000628</td>\n",
       "      <td>-0.001291</td>\n",
       "    </tr>\n",
       "    <tr>\n",
       "      <th>-AD5PiuJHgdUcAK-Vxao2A</th>\n",
       "      <td>0.777385</td>\n",
       "      <td>-0.043073</td>\n",
       "      <td>-0.460305</td>\n",
       "      <td>-0.390833</td>\n",
       "      <td>-0.154497</td>\n",
       "      <td>-0.105969</td>\n",
       "      <td>-0.089356</td>\n",
       "      <td>0.253639</td>\n",
       "      <td>0.271147</td>\n",
       "      <td>-0.121227</td>\n",
       "      <td>...</td>\n",
       "      <td>-0.004075</td>\n",
       "      <td>-0.003353</td>\n",
       "      <td>-0.003064</td>\n",
       "      <td>0.002217</td>\n",
       "      <td>0.007646</td>\n",
       "      <td>0.000269</td>\n",
       "      <td>-0.004704</td>\n",
       "      <td>0.001629</td>\n",
       "      <td>0.000612</td>\n",
       "      <td>-0.003388</td>\n",
       "    </tr>\n",
       "  </tbody>\n",
       "</table>\n",
       "<p>5 rows × 150 columns</p>\n",
       "</div>"
      ],
      "text/plain": [
       "                             0         1         2         3         4    \\\n",
       "business_id                                                                \n",
       "--9e1ONYQuAa-CB_Rrw7Tw  0.733138  0.021489 -0.423815 -0.462291  0.015708   \n",
       "-3zffZUHoY8bQjGfPSoBKQ  1.511547  1.338673 -0.025949  0.163352 -0.041222   \n",
       "-8R_-EkGpUhBk55K9Dd4mg  0.709290 -0.014500 -0.411688 -0.482273 -0.001198   \n",
       "-9YyInW1wapzdNZrhQJ9dg  0.707311 -0.004842 -0.420380 -0.469023 -0.001920   \n",
       "-AD5PiuJHgdUcAK-Vxao2A  0.777385 -0.043073 -0.460305 -0.390833 -0.154497   \n",
       "\n",
       "                             5         6         7         8         9    \\\n",
       "business_id                                                                \n",
       "--9e1ONYQuAa-CB_Rrw7Tw  0.013803  0.037292 -0.114676  0.069997  0.035365   \n",
       "-3zffZUHoY8bQjGfPSoBKQ -0.235246  0.118782 -0.278485 -0.072936  0.436694   \n",
       "-8R_-EkGpUhBk55K9Dd4mg  0.044376  0.038185 -0.104923  0.093977  0.026509   \n",
       "-9YyInW1wapzdNZrhQJ9dg  0.040321  0.029455 -0.074550  0.061972  0.015757   \n",
       "-AD5PiuJHgdUcAK-Vxao2A -0.105969 -0.089356  0.253639  0.271147 -0.121227   \n",
       "\n",
       "                          ...          140       141       142       143  \\\n",
       "business_id               ...                                              \n",
       "--9e1ONYQuAa-CB_Rrw7Tw    ...     0.006857 -0.000868  0.002239  0.006650   \n",
       "-3zffZUHoY8bQjGfPSoBKQ    ...    -0.009054 -0.010682  0.000332 -0.005104   \n",
       "-8R_-EkGpUhBk55K9Dd4mg    ...    -0.004226  0.003561 -0.008718  0.007682   \n",
       "-9YyInW1wapzdNZrhQJ9dg    ...    -0.006390  0.000974  0.000955  0.007298   \n",
       "-AD5PiuJHgdUcAK-Vxao2A    ...    -0.004075 -0.003353 -0.003064  0.002217   \n",
       "\n",
       "                             144       145       146       147       148  \\\n",
       "business_id                                                                \n",
       "--9e1ONYQuAa-CB_Rrw7Tw  0.005842 -0.002342 -0.020052 -0.000159  0.006176   \n",
       "-3zffZUHoY8bQjGfPSoBKQ -0.007077  0.012808 -0.003127  0.007614  0.006368   \n",
       "-8R_-EkGpUhBk55K9Dd4mg  0.001178  0.000242  0.000823  0.002218  0.001461   \n",
       "-9YyInW1wapzdNZrhQJ9dg  0.008184 -0.002770  0.000983  0.001991  0.000628   \n",
       "-AD5PiuJHgdUcAK-Vxao2A  0.007646  0.000269 -0.004704  0.001629  0.000612   \n",
       "\n",
       "                             149  \n",
       "business_id                       \n",
       "--9e1ONYQuAa-CB_Rrw7Tw  0.003271  \n",
       "-3zffZUHoY8bQjGfPSoBKQ  0.001309  \n",
       "-8R_-EkGpUhBk55K9Dd4mg  0.005446  \n",
       "-9YyInW1wapzdNZrhQJ9dg -0.001291  \n",
       "-AD5PiuJHgdUcAK-Vxao2A -0.003388  \n",
       "\n",
       "[5 rows x 150 columns]"
      ]
     },
     "execution_count": 30,
     "metadata": {},
     "output_type": "execute_result"
    }
   ],
   "source": [
    "# use svd to reduce dimension\n",
    "from sklearn.decomposition import TruncatedSVD\n",
    "svd = TruncatedSVD(n_components=150,\n",
    "                   random_state=42)\n",
    "\n",
    "svd.fit(categories_mat)\n",
    "categories_svd = svd.transform(categories_mat)\n",
    "df_categories_svd = pd.DataFrame(categories_svd,\n",
    "                                 index=categories_series.index)\n",
    "\n",
    "print(svd.explained_variance_ratio_.sum()) # total variance explained\n",
    "df_categories_svd.head()"
   ]
  },
  {
   "cell_type": "code",
   "execution_count": 31,
   "metadata": {},
   "outputs": [
    {
     "name": "stdout",
     "output_type": "stream",
     "text": [
      "df_average :  (3787, 5)\n",
      "df_categories :  (3787, 425)\n",
      "df_categories_svd :  (3787, 150)\n"
     ]
    }
   ],
   "source": [
    "# display feature matrix dimension\n",
    "\n",
    "print 'df_average : ', df_average.shape\n",
    "print 'df_categories : ', df_categories.shape\n",
    "print 'df_categories_svd : ', df_categories_svd.shape"
   ]
  },
  {
   "cell_type": "code",
   "execution_count": 32,
   "metadata": {
    "collapsed": true
   },
   "outputs": [],
   "source": [
    "# join two to generate feature data for each business_id\n",
    "\n",
    "df_business = df_average.join(df_categories_svd)"
   ]
  },
  {
   "cell_type": "code",
   "execution_count": 33,
   "metadata": {},
   "outputs": [
    {
     "name": "stdout",
     "output_type": "stream",
     "text": [
      "(3787, 155)\n"
     ]
    },
    {
     "data": {
      "text/html": [
       "<div>\n",
       "<table border=\"1\" class=\"dataframe\">\n",
       "  <thead>\n",
       "    <tr style=\"text-align: right;\">\n",
       "      <th></th>\n",
       "      <th>avg_stars</th>\n",
       "      <th>cool</th>\n",
       "      <th>funny</th>\n",
       "      <th>stars</th>\n",
       "      <th>useful</th>\n",
       "      <th>0</th>\n",
       "      <th>1</th>\n",
       "      <th>2</th>\n",
       "      <th>3</th>\n",
       "      <th>4</th>\n",
       "      <th>...</th>\n",
       "      <th>140</th>\n",
       "      <th>141</th>\n",
       "      <th>142</th>\n",
       "      <th>143</th>\n",
       "      <th>144</th>\n",
       "      <th>145</th>\n",
       "      <th>146</th>\n",
       "      <th>147</th>\n",
       "      <th>148</th>\n",
       "      <th>149</th>\n",
       "    </tr>\n",
       "    <tr>\n",
       "      <th>business_id</th>\n",
       "      <th></th>\n",
       "      <th></th>\n",
       "      <th></th>\n",
       "      <th></th>\n",
       "      <th></th>\n",
       "      <th></th>\n",
       "      <th></th>\n",
       "      <th></th>\n",
       "      <th></th>\n",
       "      <th></th>\n",
       "      <th></th>\n",
       "      <th></th>\n",
       "      <th></th>\n",
       "      <th></th>\n",
       "      <th></th>\n",
       "      <th></th>\n",
       "      <th></th>\n",
       "      <th></th>\n",
       "      <th></th>\n",
       "      <th></th>\n",
       "      <th></th>\n",
       "    </tr>\n",
       "  </thead>\n",
       "  <tbody>\n",
       "    <tr>\n",
       "      <th>--9e1ONYQuAa-CB_Rrw7Tw</th>\n",
       "      <td>4.0</td>\n",
       "      <td>0.578313</td>\n",
       "      <td>0.301205</td>\n",
       "      <td>4.012048</td>\n",
       "      <td>0.674699</td>\n",
       "      <td>0.733138</td>\n",
       "      <td>0.021489</td>\n",
       "      <td>-0.423815</td>\n",
       "      <td>-0.462291</td>\n",
       "      <td>0.015708</td>\n",
       "      <td>...</td>\n",
       "      <td>0.006857</td>\n",
       "      <td>-0.000868</td>\n",
       "      <td>0.002239</td>\n",
       "      <td>0.006650</td>\n",
       "      <td>0.005842</td>\n",
       "      <td>-0.002342</td>\n",
       "      <td>-0.020052</td>\n",
       "      <td>-0.000159</td>\n",
       "      <td>0.006176</td>\n",
       "      <td>0.003271</td>\n",
       "    </tr>\n",
       "    <tr>\n",
       "      <th>-3zffZUHoY8bQjGfPSoBKQ</th>\n",
       "      <td>4.0</td>\n",
       "      <td>0.394737</td>\n",
       "      <td>0.263158</td>\n",
       "      <td>4.157895</td>\n",
       "      <td>0.921053</td>\n",
       "      <td>1.511547</td>\n",
       "      <td>1.338673</td>\n",
       "      <td>-0.025949</td>\n",
       "      <td>0.163352</td>\n",
       "      <td>-0.041222</td>\n",
       "      <td>...</td>\n",
       "      <td>-0.009054</td>\n",
       "      <td>-0.010682</td>\n",
       "      <td>0.000332</td>\n",
       "      <td>-0.005104</td>\n",
       "      <td>-0.007077</td>\n",
       "      <td>0.012808</td>\n",
       "      <td>-0.003127</td>\n",
       "      <td>0.007614</td>\n",
       "      <td>0.006368</td>\n",
       "      <td>0.001309</td>\n",
       "    </tr>\n",
       "    <tr>\n",
       "      <th>-8R_-EkGpUhBk55K9Dd4mg</th>\n",
       "      <td>3.5</td>\n",
       "      <td>1.733333</td>\n",
       "      <td>1.533333</td>\n",
       "      <td>3.800000</td>\n",
       "      <td>1.866667</td>\n",
       "      <td>0.709290</td>\n",
       "      <td>-0.014500</td>\n",
       "      <td>-0.411688</td>\n",
       "      <td>-0.482273</td>\n",
       "      <td>-0.001198</td>\n",
       "      <td>...</td>\n",
       "      <td>-0.004226</td>\n",
       "      <td>0.003561</td>\n",
       "      <td>-0.008718</td>\n",
       "      <td>0.007682</td>\n",
       "      <td>0.001178</td>\n",
       "      <td>0.000242</td>\n",
       "      <td>0.000823</td>\n",
       "      <td>0.002218</td>\n",
       "      <td>0.001461</td>\n",
       "      <td>0.005446</td>\n",
       "    </tr>\n",
       "    <tr>\n",
       "      <th>-9YyInW1wapzdNZrhQJ9dg</th>\n",
       "      <td>2.5</td>\n",
       "      <td>0.120000</td>\n",
       "      <td>0.040000</td>\n",
       "      <td>2.880000</td>\n",
       "      <td>0.360000</td>\n",
       "      <td>0.707311</td>\n",
       "      <td>-0.004842</td>\n",
       "      <td>-0.420380</td>\n",
       "      <td>-0.469023</td>\n",
       "      <td>-0.001920</td>\n",
       "      <td>...</td>\n",
       "      <td>-0.006390</td>\n",
       "      <td>0.000974</td>\n",
       "      <td>0.000955</td>\n",
       "      <td>0.007298</td>\n",
       "      <td>0.008184</td>\n",
       "      <td>-0.002770</td>\n",
       "      <td>0.000983</td>\n",
       "      <td>0.001991</td>\n",
       "      <td>0.000628</td>\n",
       "      <td>-0.001291</td>\n",
       "    </tr>\n",
       "    <tr>\n",
       "      <th>-AD5PiuJHgdUcAK-Vxao2A</th>\n",
       "      <td>3.5</td>\n",
       "      <td>0.272727</td>\n",
       "      <td>0.000000</td>\n",
       "      <td>3.818182</td>\n",
       "      <td>0.181818</td>\n",
       "      <td>0.777385</td>\n",
       "      <td>-0.043073</td>\n",
       "      <td>-0.460305</td>\n",
       "      <td>-0.390833</td>\n",
       "      <td>-0.154497</td>\n",
       "      <td>...</td>\n",
       "      <td>-0.004075</td>\n",
       "      <td>-0.003353</td>\n",
       "      <td>-0.003064</td>\n",
       "      <td>0.002217</td>\n",
       "      <td>0.007646</td>\n",
       "      <td>0.000269</td>\n",
       "      <td>-0.004704</td>\n",
       "      <td>0.001629</td>\n",
       "      <td>0.000612</td>\n",
       "      <td>-0.003388</td>\n",
       "    </tr>\n",
       "  </tbody>\n",
       "</table>\n",
       "<p>5 rows × 155 columns</p>\n",
       "</div>"
      ],
      "text/plain": [
       "                        avg_stars      cool     funny     stars    useful  \\\n",
       "business_id                                                                 \n",
       "--9e1ONYQuAa-CB_Rrw7Tw        4.0  0.578313  0.301205  4.012048  0.674699   \n",
       "-3zffZUHoY8bQjGfPSoBKQ        4.0  0.394737  0.263158  4.157895  0.921053   \n",
       "-8R_-EkGpUhBk55K9Dd4mg        3.5  1.733333  1.533333  3.800000  1.866667   \n",
       "-9YyInW1wapzdNZrhQJ9dg        2.5  0.120000  0.040000  2.880000  0.360000   \n",
       "-AD5PiuJHgdUcAK-Vxao2A        3.5  0.272727  0.000000  3.818182  0.181818   \n",
       "\n",
       "                               0         1         2         3         4  \\\n",
       "business_id                                                                \n",
       "--9e1ONYQuAa-CB_Rrw7Tw  0.733138  0.021489 -0.423815 -0.462291  0.015708   \n",
       "-3zffZUHoY8bQjGfPSoBKQ  1.511547  1.338673 -0.025949  0.163352 -0.041222   \n",
       "-8R_-EkGpUhBk55K9Dd4mg  0.709290 -0.014500 -0.411688 -0.482273 -0.001198   \n",
       "-9YyInW1wapzdNZrhQJ9dg  0.707311 -0.004842 -0.420380 -0.469023 -0.001920   \n",
       "-AD5PiuJHgdUcAK-Vxao2A  0.777385 -0.043073 -0.460305 -0.390833 -0.154497   \n",
       "\n",
       "                          ...          140       141       142       143  \\\n",
       "business_id               ...                                              \n",
       "--9e1ONYQuAa-CB_Rrw7Tw    ...     0.006857 -0.000868  0.002239  0.006650   \n",
       "-3zffZUHoY8bQjGfPSoBKQ    ...    -0.009054 -0.010682  0.000332 -0.005104   \n",
       "-8R_-EkGpUhBk55K9Dd4mg    ...    -0.004226  0.003561 -0.008718  0.007682   \n",
       "-9YyInW1wapzdNZrhQJ9dg    ...    -0.006390  0.000974  0.000955  0.007298   \n",
       "-AD5PiuJHgdUcAK-Vxao2A    ...    -0.004075 -0.003353 -0.003064  0.002217   \n",
       "\n",
       "                             144       145       146       147       148  \\\n",
       "business_id                                                                \n",
       "--9e1ONYQuAa-CB_Rrw7Tw  0.005842 -0.002342 -0.020052 -0.000159  0.006176   \n",
       "-3zffZUHoY8bQjGfPSoBKQ -0.007077  0.012808 -0.003127  0.007614  0.006368   \n",
       "-8R_-EkGpUhBk55K9Dd4mg  0.001178  0.000242  0.000823  0.002218  0.001461   \n",
       "-9YyInW1wapzdNZrhQJ9dg  0.008184 -0.002770  0.000983  0.001991  0.000628   \n",
       "-AD5PiuJHgdUcAK-Vxao2A  0.007646  0.000269 -0.004704  0.001629  0.000612   \n",
       "\n",
       "                             149  \n",
       "business_id                       \n",
       "--9e1ONYQuAa-CB_Rrw7Tw  0.003271  \n",
       "-3zffZUHoY8bQjGfPSoBKQ  0.001309  \n",
       "-8R_-EkGpUhBk55K9Dd4mg  0.005446  \n",
       "-9YyInW1wapzdNZrhQJ9dg -0.001291  \n",
       "-AD5PiuJHgdUcAK-Vxao2A -0.003388  \n",
       "\n",
       "[5 rows x 155 columns]"
      ]
     },
     "execution_count": 33,
     "metadata": {},
     "output_type": "execute_result"
    }
   ],
   "source": [
    "print df_business.shape\n",
    "df_business.head()"
   ]
  },
  {
   "cell_type": "code",
   "execution_count": 34,
   "metadata": {
    "collapsed": true
   },
   "outputs": [],
   "source": [
    "# prepare data\n",
    "\n",
    "item_data = graphlab.SFrame(df_business.reset_index())"
   ]
  },
  {
   "cell_type": "code",
   "execution_count": 35,
   "metadata": {
    "scrolled": false
   },
   "outputs": [
    {
     "name": "stdout",
     "output_type": "stream",
     "text": [
      "WARNING: The ItemContentRecommender model is still in beta.\n",
      "WARNING: This feature transformer is still in beta, and some interpretation rules may change in the future.\n",
      "('Applying transform:\\n', Class             : AutoVectorizer\n",
      "\n",
      "Model Fields\n",
      "------------\n",
      "Features          : ['avg_stars', 'cool', 'funny', 'stars', 'useful', '0', '1', '2', '3', '4', '5', '6', '7', '8', '9', '10', '11', '12', '13', '14', '15', '16', '17', '18', '19', '20', '21', '22', '23', '24', '25', '26', '27', '28', '29', '30', '31', '32', '33', '34', '35', '36', '37', '38', '39', '40', '41', '42', '43', '44', '45', '46', '47', '48', '49', '50', '51', '52', '53', '54', '55', '56', '57', '58', '59', '60', '61', '62', '63', '64', '65', '66', '67', '68', '69', '70', '71', '72', '73', '74', '75', '76', '77', '78', '79', '80', '81', '82', '83', '84', '85', '86', '87', '88', '89', '90', '91', '92', '93', '94', '95', '96', '97', '98', '99', '100', '101', '102', '103', '104', '105', '106', '107', '108', '109', '110', '111', '112', '113', '114', '115', '116', '117', '118', '119', '120', '121', '122', '123', '124', '125', '126', '127', '128', '129', '130', '131', '132', '133', '134', '135', '136', '137', '138', '139', '140', '141', '142', '143', '144', '145', '146', '147', '148', '149']\n",
      "Excluded Features : ['business_id']\n",
      "\n",
      "Column     Type   Interpretation  Transforms  Output Type\n",
      "---------  -----  --------------  ----------  -----------\n",
      "avg_stars  float  numerical       None        float      \n",
      "cool       float  numerical       None        float      \n",
      "funny      float  numerical       None        float      \n",
      "stars      float  numerical       None        float      \n",
      "useful     float  numerical       None        float      \n",
      "0          float  numerical       None        float      \n",
      "1          float  numerical       None        float      \n",
      "2          float  numerical       None        float      \n",
      "3          float  numerical       None        float      \n",
      "4          float  numerical       None        float      \n",
      "5          float  numerical       None        float      \n",
      "6          float  numerical       None        float      \n",
      "7          float  numerical       None        float      \n",
      "8          float  numerical       None        float      \n",
      "9          float  numerical       None        float      \n",
      "10         float  numerical       None        float      \n",
      "11         float  numerical       None        float      \n",
      "12         float  numerical       None        float      \n",
      "13         float  numerical       None        float      \n",
      "14         float  numerical       None        float      \n",
      "15         float  numerical       None        float      \n",
      "16         float  numerical       None        float      \n",
      "17         float  numerical       None        float      \n",
      "18         float  numerical       None        float      \n",
      "19         float  numerical       None        float      \n",
      "20         float  numerical       None        float      \n",
      "21         float  numerical       None        float      \n",
      "22         float  numerical       None        float      \n",
      "23         float  numerical       None        float      \n",
      "24         float  numerical       None        float      \n",
      "25         float  numerical       None        float      \n",
      "26         float  numerical       None        float      \n",
      "27         float  numerical       None        float      \n",
      "28         float  numerical       None        float      \n",
      "29         float  numerical       None        float      \n",
      "30         float  numerical       None        float      \n",
      "31         float  numerical       None        float      \n",
      "32         float  numerical       None        float      \n",
      "33         float  numerical       None        float      \n",
      "34         float  numerical       None        float      \n",
      "35         float  numerical       None        float      \n",
      "36         float  numerical       None        float      \n",
      "37         float  numerical       None        float      \n",
      "38         float  numerical       None        float      \n",
      "39         float  numerical       None        float      \n",
      "40         float  numerical       None        float      \n",
      "41         float  numerical       None        float      \n",
      "42         float  numerical       None        float      \n",
      "43         float  numerical       None        float      \n",
      "44         float  numerical       None        float      \n",
      "45         float  numerical       None        float      \n",
      "46         float  numerical       None        float      \n",
      "47         float  numerical       None        float      \n",
      "48         float  numerical       None        float      \n",
      "49         float  numerical       None        float      \n",
      "50         float  numerical       None        float      \n",
      "51         float  numerical       None        float      \n",
      "52         float  numerical       None        float      \n",
      "53         float  numerical       None        float      \n",
      "54         float  numerical       None        float      \n",
      "55         float  numerical       None        float      \n",
      "56         float  numerical       None        float      \n",
      "57         float  numerical       None        float      \n",
      "58         float  numerical       None        float      \n",
      "59         float  numerical       None        float      \n",
      "60         float  numerical       None        float      \n",
      "61         float  numerical       None        float      \n",
      "62         float  numerical       None        float      \n",
      "63         float  numerical       None        float      \n",
      "64         float  numerical       None        float      \n",
      "65         float  numerical       None        float      \n",
      "66         float  numerical       None        float      \n",
      "67         float  numerical       None        float      \n",
      "68         float  numerical       None        float      \n",
      "69         float  numerical       None        float      \n",
      "70         float  numerical       None        float      \n",
      "71         float  numerical       None        float      \n",
      "72         float  numerical       None        float      \n",
      "73         float  numerical       None        float      \n",
      "74         float  numerical       None        float      \n",
      "75         float  numerical       None        float      \n",
      "76         float  numerical       None        float      \n",
      "77         float  numerical       None        float      \n",
      "78         float  numerical       None        float      \n",
      "79         float  numerical       None        float      \n",
      "80         float  numerical       None        float      \n",
      "81         float  numerical       None        float      \n",
      "82         float  numerical       None        float      \n",
      "83         float  numerical       None        float      \n",
      "84         float  numerical       None        float      \n",
      "85         float  numerical       None        float      \n",
      "86         float  numerical       None        float      \n",
      "87         float  numerical       None        float      \n",
      "88         float  numerical       None        float      \n",
      "89         float  numerical       None        float      \n",
      "90         float  numerical       None        float      \n",
      "91         float  numerical       None        float      \n",
      "92         float  numerical       None        float      \n",
      "93         float  numerical       None        float      \n",
      "94         float  numerical       None        float      \n",
      "95         float  numerical       None        float      \n",
      "96         float  numerical       None        float      \n",
      "97         float  numerical       None        float      \n",
      "98         float  numerical       None        float      \n",
      "99         float  numerical       None        float      \n",
      "100        float  numerical       None        float      \n",
      "101        float  numerical       None        float      \n",
      "102        float  numerical       None        float      \n",
      "103        float  numerical       None        float      \n",
      "104        float  numerical       None        float      \n",
      "105        float  numerical       None        float      \n",
      "106        float  numerical       None        float      \n",
      "107        float  numerical       None        float      \n",
      "108        float  numerical       None        float      \n",
      "109        float  numerical       None        float      \n",
      "110        float  numerical       None        float      \n",
      "111        float  numerical       None        float      \n",
      "112        float  numerical       None        float      \n",
      "113        float  numerical       None        float      \n",
      "114        float  numerical       None        float      \n",
      "115        float  numerical       None        float      \n",
      "116        float  numerical       None        float      \n",
      "117        float  numerical       None        float      \n",
      "118        float  numerical       None        float      \n",
      "119        float  numerical       None        float      \n",
      "120        float  numerical       None        float      \n",
      "121        float  numerical       None        float      \n",
      "122        float  numerical       None        float      \n",
      "123        float  numerical       None        float      \n",
      "124        float  numerical       None        float      \n",
      "125        float  numerical       None        float      \n",
      "126        float  numerical       None        float      \n",
      "127        float  numerical       None        float      \n",
      "128        float  numerical       None        float      \n",
      "129        float  numerical       None        float      \n",
      "130        float  numerical       None        float      \n",
      "131        float  numerical       None        float      \n",
      "132        float  numerical       None        float      \n",
      "133        float  numerical       None        float      \n",
      "134        float  numerical       None        float      \n",
      "135        float  numerical       None        float      \n",
      "136        float  numerical       None        float      \n",
      "137        float  numerical       None        float      \n",
      "138        float  numerical       None        float      \n",
      "139        float  numerical       None        float      \n",
      "140        float  numerical       None        float      \n",
      "141        float  numerical       None        float      \n",
      "142        float  numerical       None        float      \n",
      "143        float  numerical       None        float      \n",
      "144        float  numerical       None        float      \n",
      "145        float  numerical       None        float      \n",
      "146        float  numerical       None        float      \n",
      "147        float  numerical       None        float      \n",
      "148        float  numerical       None        float      \n",
      "149        float  numerical       None        float      \n",
      "\n",
      ")\n"
     ]
    },
    {
     "data": {
      "text/html": [
       "<pre>Recsys training: model = item_content_recommender</pre>"
      ],
      "text/plain": [
       "Recsys training: model = item_content_recommender"
      ]
     },
     "metadata": {},
     "output_type": "display_data"
    },
    {
     "name": "stdout",
     "output_type": "stream",
     "text": [
      "Defaulting to brute force instead of ball tree because there are multiple distance components.\n"
     ]
    },
    {
     "data": {
      "text/html": [
       "<pre>Starting brute force nearest neighbors model training.</pre>"
      ],
      "text/plain": [
       "Starting brute force nearest neighbors model training."
      ]
     },
     "metadata": {},
     "output_type": "display_data"
    },
    {
     "data": {
      "text/html": [
       "<pre>Starting pairwise querying.</pre>"
      ],
      "text/plain": [
       "Starting pairwise querying."
      ]
     },
     "metadata": {},
     "output_type": "display_data"
    },
    {
     "data": {
      "text/html": [
       "<pre>+--------------+---------+-------------+--------------+</pre>"
      ],
      "text/plain": [
       "+--------------+---------+-------------+--------------+"
      ]
     },
     "metadata": {},
     "output_type": "display_data"
    },
    {
     "data": {
      "text/html": [
       "<pre>| Query points | # Pairs | % Complete. | Elapsed Time |</pre>"
      ],
      "text/plain": [
       "| Query points | # Pairs | % Complete. | Elapsed Time |"
      ]
     },
     "metadata": {},
     "output_type": "display_data"
    },
    {
     "data": {
      "text/html": [
       "<pre>+--------------+---------+-------------+--------------+</pre>"
      ],
      "text/plain": [
       "+--------------+---------+-------------+--------------+"
      ]
     },
     "metadata": {},
     "output_type": "display_data"
    },
    {
     "data": {
      "text/html": [
       "<pre>| 1            | 3787    | 0.0264061   | 96.968ms     |</pre>"
      ],
      "text/plain": [
       "| 1            | 3787    | 0.0264061   | 96.968ms     |"
      ]
     },
     "metadata": {},
     "output_type": "display_data"
    },
    {
     "data": {
      "text/html": [
       "<pre>| 142          | 537754  | 3.74967     | 1.10s        |</pre>"
      ],
      "text/plain": [
       "| 142          | 537754  | 3.74967     | 1.10s        |"
      ]
     },
     "metadata": {},
     "output_type": "display_data"
    },
    {
     "data": {
      "text/html": [
       "<pre>| 289          | 1094443 | 7.63137     | 2.10s        |</pre>"
      ],
      "text/plain": [
       "| 289          | 1094443 | 7.63137     | 2.10s        |"
      ]
     },
     "metadata": {},
     "output_type": "display_data"
    },
    {
     "data": {
      "text/html": [
       "<pre>| 423          | 1601901 | 11.1698     | 3.10s        |</pre>"
      ],
      "text/plain": [
       "| 423          | 1601901 | 11.1698     | 3.10s        |"
      ]
     },
     "metadata": {},
     "output_type": "display_data"
    },
    {
     "data": {
      "text/html": [
       "<pre>| 540          | 2044980 | 14.2593     | 4.10s        |</pre>"
      ],
      "text/plain": [
       "| 540          | 2044980 | 14.2593     | 4.10s        |"
      ]
     },
     "metadata": {},
     "output_type": "display_data"
    },
    {
     "data": {
      "text/html": [
       "<pre>| 665          | 2518355 | 17.5601     | 5.09s        |</pre>"
      ],
      "text/plain": [
       "| 665          | 2518355 | 17.5601     | 5.09s        |"
      ]
     },
     "metadata": {},
     "output_type": "display_data"
    },
    {
     "data": {
      "text/html": [
       "<pre>| 793          | 3003091 | 20.9401     | 6.10s        |</pre>"
      ],
      "text/plain": [
       "| 793          | 3003091 | 20.9401     | 6.10s        |"
      ]
     },
     "metadata": {},
     "output_type": "display_data"
    },
    {
     "data": {
      "text/html": [
       "<pre>| 926          | 3506762 | 24.4521     | 7.10s        |</pre>"
      ],
      "text/plain": [
       "| 926          | 3506762 | 24.4521     | 7.10s        |"
      ]
     },
     "metadata": {},
     "output_type": "display_data"
    },
    {
     "data": {
      "text/html": [
       "<pre>| 1060         | 4014220 | 27.9905     | 8.10s        |</pre>"
      ],
      "text/plain": [
       "| 1060         | 4014220 | 27.9905     | 8.10s        |"
      ]
     },
     "metadata": {},
     "output_type": "display_data"
    },
    {
     "data": {
      "text/html": [
       "<pre>| 1212         | 4589844 | 32.0042     | 9.10s        |</pre>"
      ],
      "text/plain": [
       "| 1212         | 4589844 | 32.0042     | 9.10s        |"
      ]
     },
     "metadata": {},
     "output_type": "display_data"
    },
    {
     "data": {
      "text/html": [
       "<pre>| 1364         | 5165468 | 36.018      | 10.10s       |</pre>"
      ],
      "text/plain": [
       "| 1364         | 5165468 | 36.018      | 10.10s       |"
      ]
     },
     "metadata": {},
     "output_type": "display_data"
    },
    {
     "data": {
      "text/html": [
       "<pre>| 1513         | 5729731 | 39.9525     | 11.10s       |</pre>"
      ],
      "text/plain": [
       "| 1513         | 5729731 | 39.9525     | 11.10s       |"
      ]
     },
     "metadata": {},
     "output_type": "display_data"
    },
    {
     "data": {
      "text/html": [
       "<pre>| 1653         | 6259911 | 43.6493     | 12.10s       |</pre>"
      ],
      "text/plain": [
       "| 1653         | 6259911 | 43.6493     | 12.10s       |"
      ]
     },
     "metadata": {},
     "output_type": "display_data"
    },
    {
     "data": {
      "text/html": [
       "<pre>| 1790         | 6778730 | 47.267      | 13.10s       |</pre>"
      ],
      "text/plain": [
       "| 1790         | 6778730 | 47.267      | 13.10s       |"
      ]
     },
     "metadata": {},
     "output_type": "display_data"
    },
    {
     "data": {
      "text/html": [
       "<pre>| 1951         | 7388437 | 51.5184     | 14.09s       |</pre>"
      ],
      "text/plain": [
       "| 1951         | 7388437 | 51.5184     | 14.09s       |"
      ]
     },
     "metadata": {},
     "output_type": "display_data"
    },
    {
     "data": {
      "text/html": [
       "<pre>| 2091         | 7918617 | 55.2152     | 15.11s       |</pre>"
      ],
      "text/plain": [
       "| 2091         | 7918617 | 55.2152     | 15.11s       |"
      ]
     },
     "metadata": {},
     "output_type": "display_data"
    },
    {
     "data": {
      "text/html": [
       "<pre>| 2233         | 8456371 | 58.9649     | 16.09s       |</pre>"
      ],
      "text/plain": [
       "| 2233         | 8456371 | 58.9649     | 16.09s       |"
      ]
     },
     "metadata": {},
     "output_type": "display_data"
    },
    {
     "data": {
      "text/html": [
       "<pre>| 2364         | 8952468 | 62.4241     | 17.09s       |</pre>"
      ],
      "text/plain": [
       "| 2364         | 8952468 | 62.4241     | 17.09s       |"
      ]
     },
     "metadata": {},
     "output_type": "display_data"
    },
    {
     "data": {
      "text/html": [
       "<pre>| 2515         | 9524305 | 66.4114     | 18.10s       |</pre>"
      ],
      "text/plain": [
       "| 2515         | 9524305 | 66.4114     | 18.10s       |"
      ]
     },
     "metadata": {},
     "output_type": "display_data"
    },
    {
     "data": {
      "text/html": [
       "<pre>| 2674         | 1e+07   | 70.61       | 19.11s       |</pre>"
      ],
      "text/plain": [
       "| 2674         | 1e+07   | 70.61       | 19.11s       |"
      ]
     },
     "metadata": {},
     "output_type": "display_data"
    },
    {
     "data": {
      "text/html": [
       "<pre>| 2821         | 1.1e+07 | 74.4917     | 20.10s       |</pre>"
      ],
      "text/plain": [
       "| 2821         | 1.1e+07 | 74.4917     | 20.10s       |"
      ]
     },
     "metadata": {},
     "output_type": "display_data"
    },
    {
     "data": {
      "text/html": [
       "<pre>| 2958         | 1.1e+07 | 78.1093     | 21.10s       |</pre>"
      ],
      "text/plain": [
       "| 2958         | 1.1e+07 | 78.1093     | 21.10s       |"
      ]
     },
     "metadata": {},
     "output_type": "display_data"
    },
    {
     "data": {
      "text/html": [
       "<pre>| 3096         | 1.2e+07 | 81.7534     | 22.10s       |</pre>"
      ],
      "text/plain": [
       "| 3096         | 1.2e+07 | 81.7534     | 22.10s       |"
      ]
     },
     "metadata": {},
     "output_type": "display_data"
    },
    {
     "data": {
      "text/html": [
       "<pre>| 3227         | 1.2e+07 | 85.2126     | 23.09s       |</pre>"
      ],
      "text/plain": [
       "| 3227         | 1.2e+07 | 85.2126     | 23.09s       |"
      ]
     },
     "metadata": {},
     "output_type": "display_data"
    },
    {
     "data": {
      "text/html": [
       "<pre>| 3367         | 1.3e+07 | 88.9094     | 24.11s       |</pre>"
      ],
      "text/plain": [
       "| 3367         | 1.3e+07 | 88.9094     | 24.11s       |"
      ]
     },
     "metadata": {},
     "output_type": "display_data"
    },
    {
     "data": {
      "text/html": [
       "<pre>| 3518         | 1.3e+07 | 92.8968     | 25.10s       |</pre>"
      ],
      "text/plain": [
       "| 3518         | 1.3e+07 | 92.8968     | 25.10s       |"
      ]
     },
     "metadata": {},
     "output_type": "display_data"
    },
    {
     "data": {
      "text/html": [
       "<pre>| 3679         | 1.4e+07 | 97.1481     | 26.11s       |</pre>"
      ],
      "text/plain": [
       "| 3679         | 1.4e+07 | 97.1481     | 26.11s       |"
      ]
     },
     "metadata": {},
     "output_type": "display_data"
    },
    {
     "data": {
      "text/html": [
       "<pre>| 3782         | 1.4e+07 | 99.868      | 27.11s       |</pre>"
      ],
      "text/plain": [
       "| 3782         | 1.4e+07 | 99.868      | 27.11s       |"
      ]
     },
     "metadata": {},
     "output_type": "display_data"
    },
    {
     "data": {
      "text/html": [
       "<pre>| Done         |         | 100         | 27.28s       |</pre>"
      ],
      "text/plain": [
       "| Done         |         | 100         | 27.28s       |"
      ]
     },
     "metadata": {},
     "output_type": "display_data"
    },
    {
     "data": {
      "text/html": [
       "<pre>+--------------+---------+-------------+--------------+</pre>"
      ],
      "text/plain": [
       "+--------------+---------+-------------+--------------+"
      ]
     },
     "metadata": {},
     "output_type": "display_data"
    },
    {
     "data": {
      "text/html": [
       "<pre>Preparing data set.</pre>"
      ],
      "text/plain": [
       "Preparing data set."
      ]
     },
     "metadata": {},
     "output_type": "display_data"
    },
    {
     "data": {
      "text/html": [
       "<pre>    Data has 0 observations with 0 users and 3787 items.</pre>"
      ],
      "text/plain": [
       "    Data has 0 observations with 0 users and 3787 items."
      ]
     },
     "metadata": {},
     "output_type": "display_data"
    },
    {
     "data": {
      "text/html": [
       "<pre>    Data prepared in: 0.262104s</pre>"
      ],
      "text/plain": [
       "    Data prepared in: 0.262104s"
      ]
     },
     "metadata": {},
     "output_type": "display_data"
    },
    {
     "data": {
      "text/html": [
       "<pre>Loading user-provided nearest items.</pre>"
      ],
      "text/plain": [
       "Loading user-provided nearest items."
      ]
     },
     "metadata": {},
     "output_type": "display_data"
    },
    {
     "data": {
      "text/html": [
       "<pre>Generating candidate set for working with new users.</pre>"
      ],
      "text/plain": [
       "Generating candidate set for working with new users."
      ]
     },
     "metadata": {},
     "output_type": "display_data"
    },
    {
     "data": {
      "text/html": [
       "<pre>Finished training in 0.015866s</pre>"
      ],
      "text/plain": [
       "Finished training in 0.015866s"
      ]
     },
     "metadata": {},
     "output_type": "display_data"
    }
   ],
   "source": [
    "# build content based recommender\n",
    "\n",
    "content_rec = graphlab.recommender.item_content_recommender.create(item_data, \"business_id\")"
   ]
  },
  {
   "cell_type": "code",
   "execution_count": 37,
   "metadata": {},
   "outputs": [
    {
     "data": {
      "text/plain": [
       "['--9e1ONYQuAa-CB_Rrw7Tw']"
      ]
     },
     "execution_count": 37,
     "metadata": {},
     "output_type": "execute_result"
    }
   ],
   "source": [
    "sample_item"
   ]
  },
  {
   "cell_type": "code",
   "execution_count": 36,
   "metadata": {},
   "outputs": [
    {
     "data": {
      "text/html": [
       "<div style=\"max-height:1000px;max-width:1500px;overflow:auto;\"><table frame=\"box\" rules=\"cols\">\n",
       "    <tr>\n",
       "        <th style=\"padding-left: 1em; padding-right: 1em; text-align: center\">business_id</th>\n",
       "        <th style=\"padding-left: 1em; padding-right: 1em; text-align: center\">score</th>\n",
       "        <th style=\"padding-left: 1em; padding-right: 1em; text-align: center\">rank</th>\n",
       "    </tr>\n",
       "    <tr>\n",
       "        <td style=\"padding-left: 1em; padding-right: 1em; text-align: center; vertical-align: top\">uWECX6-Uq9n8v5ipk9R29A</td>\n",
       "        <td style=\"padding-left: 1em; padding-right: 1em; text-align: center; vertical-align: top\">0.916558623314</td>\n",
       "        <td style=\"padding-left: 1em; padding-right: 1em; text-align: center; vertical-align: top\">1</td>\n",
       "    </tr>\n",
       "    <tr>\n",
       "        <td style=\"padding-left: 1em; padding-right: 1em; text-align: center; vertical-align: top\">TT658qQinO6MBHP9q7rJ8w</td>\n",
       "        <td style=\"padding-left: 1em; padding-right: 1em; text-align: center; vertical-align: top\">0.91616910696</td>\n",
       "        <td style=\"padding-left: 1em; padding-right: 1em; text-align: center; vertical-align: top\">2</td>\n",
       "    </tr>\n",
       "    <tr>\n",
       "        <td style=\"padding-left: 1em; padding-right: 1em; text-align: center; vertical-align: top\">zcScEL0WEdFkROcnz5379g</td>\n",
       "        <td style=\"padding-left: 1em; padding-right: 1em; text-align: center; vertical-align: top\">0.868158102036</td>\n",
       "        <td style=\"padding-left: 1em; padding-right: 1em; text-align: center; vertical-align: top\">3</td>\n",
       "    </tr>\n",
       "    <tr>\n",
       "        <td style=\"padding-left: 1em; padding-right: 1em; text-align: center; vertical-align: top\">L2W0QLXIIR5MEmhQwZk-iA</td>\n",
       "        <td style=\"padding-left: 1em; padding-right: 1em; text-align: center; vertical-align: top\">0.866825044155</td>\n",
       "        <td style=\"padding-left: 1em; padding-right: 1em; text-align: center; vertical-align: top\">4</td>\n",
       "    </tr>\n",
       "    <tr>\n",
       "        <td style=\"padding-left: 1em; padding-right: 1em; text-align: center; vertical-align: top\">p3YqOYELqXtLyHz9T49p_w</td>\n",
       "        <td style=\"padding-left: 1em; padding-right: 1em; text-align: center; vertical-align: top\">0.865006804466</td>\n",
       "        <td style=\"padding-left: 1em; padding-right: 1em; text-align: center; vertical-align: top\">5</td>\n",
       "    </tr>\n",
       "    <tr>\n",
       "        <td style=\"padding-left: 1em; padding-right: 1em; text-align: center; vertical-align: top\">5TY6bUT3bbl9aHItiIXXqw</td>\n",
       "        <td style=\"padding-left: 1em; padding-right: 1em; text-align: center; vertical-align: top\">0.863072693348</td>\n",
       "        <td style=\"padding-left: 1em; padding-right: 1em; text-align: center; vertical-align: top\">6</td>\n",
       "    </tr>\n",
       "    <tr>\n",
       "        <td style=\"padding-left: 1em; padding-right: 1em; text-align: center; vertical-align: top\">UNI1agsPX2k3eJSJVB91nw</td>\n",
       "        <td style=\"padding-left: 1em; padding-right: 1em; text-align: center; vertical-align: top\">0.840923309326</td>\n",
       "        <td style=\"padding-left: 1em; padding-right: 1em; text-align: center; vertical-align: top\">7</td>\n",
       "    </tr>\n",
       "    <tr>\n",
       "        <td style=\"padding-left: 1em; padding-right: 1em; text-align: center; vertical-align: top\">VPO8pBUwYz1u6GoG0d2U-Q</td>\n",
       "        <td style=\"padding-left: 1em; padding-right: 1em; text-align: center; vertical-align: top\">0.834411859512</td>\n",
       "        <td style=\"padding-left: 1em; padding-right: 1em; text-align: center; vertical-align: top\">8</td>\n",
       "    </tr>\n",
       "    <tr>\n",
       "        <td style=\"padding-left: 1em; padding-right: 1em; text-align: center; vertical-align: top\">L_ZLtfHvfzfoNVQ0-okTXg</td>\n",
       "        <td style=\"padding-left: 1em; padding-right: 1em; text-align: center; vertical-align: top\">0.833248853683</td>\n",
       "        <td style=\"padding-left: 1em; padding-right: 1em; text-align: center; vertical-align: top\">9</td>\n",
       "    </tr>\n",
       "    <tr>\n",
       "        <td style=\"padding-left: 1em; padding-right: 1em; text-align: center; vertical-align: top\">n_o2DAmDBAZ-RjVDSY-5uQ</td>\n",
       "        <td style=\"padding-left: 1em; padding-right: 1em; text-align: center; vertical-align: top\">0.832753956318</td>\n",
       "        <td style=\"padding-left: 1em; padding-right: 1em; text-align: center; vertical-align: top\">10</td>\n",
       "    </tr>\n",
       "</table>\n",
       "[10 rows x 3 columns]<br/>\n",
       "</div>"
      ],
      "text/plain": [
       "Columns:\n",
       "\tbusiness_id\tstr\n",
       "\tscore\tfloat\n",
       "\trank\tint\n",
       "\n",
       "Rows: 10\n",
       "\n",
       "Data:\n",
       "+------------------------+----------------+------+\n",
       "|      business_id       |     score      | rank |\n",
       "+------------------------+----------------+------+\n",
       "| uWECX6-Uq9n8v5ipk9R29A | 0.916558623314 |  1   |\n",
       "| TT658qQinO6MBHP9q7rJ8w | 0.91616910696  |  2   |\n",
       "| zcScEL0WEdFkROcnz5379g | 0.868158102036 |  3   |\n",
       "| L2W0QLXIIR5MEmhQwZk-iA | 0.866825044155 |  4   |\n",
       "| p3YqOYELqXtLyHz9T49p_w | 0.865006804466 |  5   |\n",
       "| 5TY6bUT3bbl9aHItiIXXqw | 0.863072693348 |  6   |\n",
       "| UNI1agsPX2k3eJSJVB91nw | 0.840923309326 |  7   |\n",
       "| VPO8pBUwYz1u6GoG0d2U-Q | 0.834411859512 |  8   |\n",
       "| L_ZLtfHvfzfoNVQ0-okTXg | 0.833248853683 |  9   |\n",
       "| n_o2DAmDBAZ-RjVDSY-5uQ | 0.832753956318 |  10  |\n",
       "+------------------------+----------------+------+\n",
       "[10 rows x 3 columns]"
      ]
     },
     "execution_count": 36,
     "metadata": {},
     "output_type": "execute_result"
    }
   ],
   "source": [
    "# make recommendation for a single item\n",
    "\n",
    "sample_item = [df_stars.iloc[0].business_id]\n",
    "content_rec.recommend_from_interactions(sample_item) # recommendation from single item"
   ]
  },
  {
   "cell_type": "code",
   "execution_count": 38,
   "metadata": {},
   "outputs": [
    {
     "data": {
      "text/html": [
       "<div>\n",
       "<table border=\"1\" class=\"dataframe\">\n",
       "  <thead>\n",
       "    <tr style=\"text-align: right;\">\n",
       "      <th></th>\n",
       "      <th>business_id</th>\n",
       "      <th>similar</th>\n",
       "      <th>score</th>\n",
       "      <th>rank</th>\n",
       "    </tr>\n",
       "  </thead>\n",
       "  <tbody>\n",
       "    <tr>\n",
       "      <th>0</th>\n",
       "      <td>--9e1ONYQuAa-CB_Rrw7Tw</td>\n",
       "      <td>uWECX6-Uq9n8v5ipk9R29A</td>\n",
       "      <td>0.916559</td>\n",
       "      <td>1</td>\n",
       "    </tr>\n",
       "    <tr>\n",
       "      <th>1</th>\n",
       "      <td>--9e1ONYQuAa-CB_Rrw7Tw</td>\n",
       "      <td>TT658qQinO6MBHP9q7rJ8w</td>\n",
       "      <td>0.916169</td>\n",
       "      <td>2</td>\n",
       "    </tr>\n",
       "    <tr>\n",
       "      <th>2</th>\n",
       "      <td>--9e1ONYQuAa-CB_Rrw7Tw</td>\n",
       "      <td>zcScEL0WEdFkROcnz5379g</td>\n",
       "      <td>0.868158</td>\n",
       "      <td>3</td>\n",
       "    </tr>\n",
       "    <tr>\n",
       "      <th>3</th>\n",
       "      <td>--9e1ONYQuAa-CB_Rrw7Tw</td>\n",
       "      <td>L2W0QLXIIR5MEmhQwZk-iA</td>\n",
       "      <td>0.866825</td>\n",
       "      <td>4</td>\n",
       "    </tr>\n",
       "    <tr>\n",
       "      <th>4</th>\n",
       "      <td>--9e1ONYQuAa-CB_Rrw7Tw</td>\n",
       "      <td>p3YqOYELqXtLyHz9T49p_w</td>\n",
       "      <td>0.865007</td>\n",
       "      <td>5</td>\n",
       "    </tr>\n",
       "    <tr>\n",
       "      <th>5</th>\n",
       "      <td>--9e1ONYQuAa-CB_Rrw7Tw</td>\n",
       "      <td>5TY6bUT3bbl9aHItiIXXqw</td>\n",
       "      <td>0.863073</td>\n",
       "      <td>6</td>\n",
       "    </tr>\n",
       "    <tr>\n",
       "      <th>6</th>\n",
       "      <td>--9e1ONYQuAa-CB_Rrw7Tw</td>\n",
       "      <td>UNI1agsPX2k3eJSJVB91nw</td>\n",
       "      <td>0.840923</td>\n",
       "      <td>7</td>\n",
       "    </tr>\n",
       "    <tr>\n",
       "      <th>7</th>\n",
       "      <td>--9e1ONYQuAa-CB_Rrw7Tw</td>\n",
       "      <td>VPO8pBUwYz1u6GoG0d2U-Q</td>\n",
       "      <td>0.834412</td>\n",
       "      <td>8</td>\n",
       "    </tr>\n",
       "    <tr>\n",
       "      <th>8</th>\n",
       "      <td>--9e1ONYQuAa-CB_Rrw7Tw</td>\n",
       "      <td>L_ZLtfHvfzfoNVQ0-okTXg</td>\n",
       "      <td>0.833249</td>\n",
       "      <td>9</td>\n",
       "    </tr>\n",
       "    <tr>\n",
       "      <th>9</th>\n",
       "      <td>--9e1ONYQuAa-CB_Rrw7Tw</td>\n",
       "      <td>n_o2DAmDBAZ-RjVDSY-5uQ</td>\n",
       "      <td>0.832754</td>\n",
       "      <td>10</td>\n",
       "    </tr>\n",
       "    <tr>\n",
       "      <th>10</th>\n",
       "      <td>-3zffZUHoY8bQjGfPSoBKQ</td>\n",
       "      <td>0qPNeqLuKE88rKbIbSZDpg</td>\n",
       "      <td>0.987368</td>\n",
       "      <td>1</td>\n",
       "    </tr>\n",
       "    <tr>\n",
       "      <th>11</th>\n",
       "      <td>-3zffZUHoY8bQjGfPSoBKQ</td>\n",
       "      <td>n8_OgIBErn-7TCIr4Sn2rA</td>\n",
       "      <td>0.947679</td>\n",
       "      <td>2</td>\n",
       "    </tr>\n",
       "    <tr>\n",
       "      <th>12</th>\n",
       "      <td>-3zffZUHoY8bQjGfPSoBKQ</td>\n",
       "      <td>Q5olb1x6FGk2oLAlc9p5Lg</td>\n",
       "      <td>0.946900</td>\n",
       "      <td>3</td>\n",
       "    </tr>\n",
       "    <tr>\n",
       "      <th>13</th>\n",
       "      <td>-3zffZUHoY8bQjGfPSoBKQ</td>\n",
       "      <td>awI4hHMfa7H0Xf0-ChU5hg</td>\n",
       "      <td>0.939194</td>\n",
       "      <td>4</td>\n",
       "    </tr>\n",
       "    <tr>\n",
       "      <th>14</th>\n",
       "      <td>-3zffZUHoY8bQjGfPSoBKQ</td>\n",
       "      <td>Zrx25j1M794Nh8fUGB8E9A</td>\n",
       "      <td>0.938342</td>\n",
       "      <td>5</td>\n",
       "    </tr>\n",
       "    <tr>\n",
       "      <th>15</th>\n",
       "      <td>-3zffZUHoY8bQjGfPSoBKQ</td>\n",
       "      <td>fOAf6lQHhPn7qybtHKxsGQ</td>\n",
       "      <td>0.935156</td>\n",
       "      <td>6</td>\n",
       "    </tr>\n",
       "    <tr>\n",
       "      <th>16</th>\n",
       "      <td>-3zffZUHoY8bQjGfPSoBKQ</td>\n",
       "      <td>M--CB6Fhp4XKxsR2PlcP9w</td>\n",
       "      <td>0.932478</td>\n",
       "      <td>7</td>\n",
       "    </tr>\n",
       "    <tr>\n",
       "      <th>17</th>\n",
       "      <td>-3zffZUHoY8bQjGfPSoBKQ</td>\n",
       "      <td>fHo_ycJ1OQ_H7DyctJhr6A</td>\n",
       "      <td>0.930266</td>\n",
       "      <td>8</td>\n",
       "    </tr>\n",
       "    <tr>\n",
       "      <th>18</th>\n",
       "      <td>-3zffZUHoY8bQjGfPSoBKQ</td>\n",
       "      <td>rhYZCUiywRknWKieJ75zug</td>\n",
       "      <td>0.929488</td>\n",
       "      <td>9</td>\n",
       "    </tr>\n",
       "    <tr>\n",
       "      <th>19</th>\n",
       "      <td>-3zffZUHoY8bQjGfPSoBKQ</td>\n",
       "      <td>Trbt0Ex85yvwT8DHoEFCvg</td>\n",
       "      <td>0.928429</td>\n",
       "      <td>10</td>\n",
       "    </tr>\n",
       "    <tr>\n",
       "      <th>20</th>\n",
       "      <td>-8R_-EkGpUhBk55K9Dd4mg</td>\n",
       "      <td>qsJkjQoM3Hdg6Gtqp2S9_w</td>\n",
       "      <td>0.981155</td>\n",
       "      <td>1</td>\n",
       "    </tr>\n",
       "    <tr>\n",
       "      <th>21</th>\n",
       "      <td>-8R_-EkGpUhBk55K9Dd4mg</td>\n",
       "      <td>5CJL_2-XwCGBmOav4mFdYg</td>\n",
       "      <td>0.980917</td>\n",
       "      <td>2</td>\n",
       "    </tr>\n",
       "    <tr>\n",
       "      <th>22</th>\n",
       "      <td>-8R_-EkGpUhBk55K9Dd4mg</td>\n",
       "      <td>slx9qstc2U2Tc4s7dzbbBg</td>\n",
       "      <td>0.980585</td>\n",
       "      <td>3</td>\n",
       "    </tr>\n",
       "    <tr>\n",
       "      <th>23</th>\n",
       "      <td>-8R_-EkGpUhBk55K9Dd4mg</td>\n",
       "      <td>N7yuiiu8jhQ-Fl9Npflreg</td>\n",
       "      <td>0.980311</td>\n",
       "      <td>4</td>\n",
       "    </tr>\n",
       "    <tr>\n",
       "      <th>24</th>\n",
       "      <td>-8R_-EkGpUhBk55K9Dd4mg</td>\n",
       "      <td>HAjZ4ZJrJqtVVyilMYQZzQ</td>\n",
       "      <td>0.979852</td>\n",
       "      <td>5</td>\n",
       "    </tr>\n",
       "    <tr>\n",
       "      <th>25</th>\n",
       "      <td>-8R_-EkGpUhBk55K9Dd4mg</td>\n",
       "      <td>QCe_OTC_9Vf5-oQuflQH7Q</td>\n",
       "      <td>0.979684</td>\n",
       "      <td>6</td>\n",
       "    </tr>\n",
       "    <tr>\n",
       "      <th>26</th>\n",
       "      <td>-8R_-EkGpUhBk55K9Dd4mg</td>\n",
       "      <td>nMaIIKEAW2cTEWbEyeFyXQ</td>\n",
       "      <td>0.979418</td>\n",
       "      <td>7</td>\n",
       "    </tr>\n",
       "    <tr>\n",
       "      <th>27</th>\n",
       "      <td>-8R_-EkGpUhBk55K9Dd4mg</td>\n",
       "      <td>QjfCmeznfZC9BPowyO4Npw</td>\n",
       "      <td>0.978871</td>\n",
       "      <td>8</td>\n",
       "    </tr>\n",
       "    <tr>\n",
       "      <th>28</th>\n",
       "      <td>-8R_-EkGpUhBk55K9Dd4mg</td>\n",
       "      <td>kpLt4l5J5kbMD4oxQLC2aA</td>\n",
       "      <td>0.978862</td>\n",
       "      <td>9</td>\n",
       "    </tr>\n",
       "    <tr>\n",
       "      <th>29</th>\n",
       "      <td>-8R_-EkGpUhBk55K9Dd4mg</td>\n",
       "      <td>PhrTUiNQVA_XsK43O2TA5w</td>\n",
       "      <td>0.978764</td>\n",
       "      <td>10</td>\n",
       "    </tr>\n",
       "  </tbody>\n",
       "</table>\n",
       "</div>"
      ],
      "text/plain": [
       "               business_id                 similar     score  rank\n",
       "0   --9e1ONYQuAa-CB_Rrw7Tw  uWECX6-Uq9n8v5ipk9R29A  0.916559     1\n",
       "1   --9e1ONYQuAa-CB_Rrw7Tw  TT658qQinO6MBHP9q7rJ8w  0.916169     2\n",
       "2   --9e1ONYQuAa-CB_Rrw7Tw  zcScEL0WEdFkROcnz5379g  0.868158     3\n",
       "3   --9e1ONYQuAa-CB_Rrw7Tw  L2W0QLXIIR5MEmhQwZk-iA  0.866825     4\n",
       "4   --9e1ONYQuAa-CB_Rrw7Tw  p3YqOYELqXtLyHz9T49p_w  0.865007     5\n",
       "5   --9e1ONYQuAa-CB_Rrw7Tw  5TY6bUT3bbl9aHItiIXXqw  0.863073     6\n",
       "6   --9e1ONYQuAa-CB_Rrw7Tw  UNI1agsPX2k3eJSJVB91nw  0.840923     7\n",
       "7   --9e1ONYQuAa-CB_Rrw7Tw  VPO8pBUwYz1u6GoG0d2U-Q  0.834412     8\n",
       "8   --9e1ONYQuAa-CB_Rrw7Tw  L_ZLtfHvfzfoNVQ0-okTXg  0.833249     9\n",
       "9   --9e1ONYQuAa-CB_Rrw7Tw  n_o2DAmDBAZ-RjVDSY-5uQ  0.832754    10\n",
       "10  -3zffZUHoY8bQjGfPSoBKQ  0qPNeqLuKE88rKbIbSZDpg  0.987368     1\n",
       "11  -3zffZUHoY8bQjGfPSoBKQ  n8_OgIBErn-7TCIr4Sn2rA  0.947679     2\n",
       "12  -3zffZUHoY8bQjGfPSoBKQ  Q5olb1x6FGk2oLAlc9p5Lg  0.946900     3\n",
       "13  -3zffZUHoY8bQjGfPSoBKQ  awI4hHMfa7H0Xf0-ChU5hg  0.939194     4\n",
       "14  -3zffZUHoY8bQjGfPSoBKQ  Zrx25j1M794Nh8fUGB8E9A  0.938342     5\n",
       "15  -3zffZUHoY8bQjGfPSoBKQ  fOAf6lQHhPn7qybtHKxsGQ  0.935156     6\n",
       "16  -3zffZUHoY8bQjGfPSoBKQ  M--CB6Fhp4XKxsR2PlcP9w  0.932478     7\n",
       "17  -3zffZUHoY8bQjGfPSoBKQ  fHo_ycJ1OQ_H7DyctJhr6A  0.930266     8\n",
       "18  -3zffZUHoY8bQjGfPSoBKQ  rhYZCUiywRknWKieJ75zug  0.929488     9\n",
       "19  -3zffZUHoY8bQjGfPSoBKQ  Trbt0Ex85yvwT8DHoEFCvg  0.928429    10\n",
       "20  -8R_-EkGpUhBk55K9Dd4mg  qsJkjQoM3Hdg6Gtqp2S9_w  0.981155     1\n",
       "21  -8R_-EkGpUhBk55K9Dd4mg  5CJL_2-XwCGBmOav4mFdYg  0.980917     2\n",
       "22  -8R_-EkGpUhBk55K9Dd4mg  slx9qstc2U2Tc4s7dzbbBg  0.980585     3\n",
       "23  -8R_-EkGpUhBk55K9Dd4mg  N7yuiiu8jhQ-Fl9Npflreg  0.980311     4\n",
       "24  -8R_-EkGpUhBk55K9Dd4mg  HAjZ4ZJrJqtVVyilMYQZzQ  0.979852     5\n",
       "25  -8R_-EkGpUhBk55K9Dd4mg  QCe_OTC_9Vf5-oQuflQH7Q  0.979684     6\n",
       "26  -8R_-EkGpUhBk55K9Dd4mg  nMaIIKEAW2cTEWbEyeFyXQ  0.979418     7\n",
       "27  -8R_-EkGpUhBk55K9Dd4mg  QjfCmeznfZC9BPowyO4Npw  0.978871     8\n",
       "28  -8R_-EkGpUhBk55K9Dd4mg  kpLt4l5J5kbMD4oxQLC2aA  0.978862     9\n",
       "29  -8R_-EkGpUhBk55K9Dd4mg  PhrTUiNQVA_XsK43O2TA5w  0.978764    10"
      ]
     },
     "execution_count": 38,
     "metadata": {},
     "output_type": "execute_result"
    }
   ],
   "source": [
    "# similar items per item\n",
    "\n",
    "similar_items_df = content_rec.get_similar_items().to_dataframe()\n",
    "similar_items_df.head(30)"
   ]
  },
  {
   "cell_type": "code",
   "execution_count": 39,
   "metadata": {
    "scrolled": true
   },
   "outputs": [
    {
     "name": "stderr",
     "output_type": "stream",
     "text": [
      "/home/ye/anaconda2/envs/gl-env/lib/python2.7/site-packages/ipykernel/__main__.py:7: FutureWarning: sort(columns=....) is deprecated, use sort_values(by=.....)\n"
     ]
    },
    {
     "data": {
      "text/plain": [
       "0    uWECX6-Uq9n8v5ipk9R29A\n",
       "1    TT658qQinO6MBHP9q7rJ8w\n",
       "2    zcScEL0WEdFkROcnz5379g\n",
       "3    L2W0QLXIIR5MEmhQwZk-iA\n",
       "4    p3YqOYELqXtLyHz9T49p_w\n",
       "Name: similar, dtype: object"
      ]
     },
     "execution_count": 39,
     "metadata": {},
     "output_type": "execute_result"
    }
   ],
   "source": [
    "# make recommendation for a sample user\n",
    "df_favored = df_stars[df_stars.stars > 4] # select favored restuarants\n",
    "bid_favored = df_favored[df_favored.user_id == df_favored.user_id.iloc[0]]\n",
    "\n",
    "# first select favored restaurants' similar items\n",
    "# second sort those restaurants, then got top 5\n",
    "similar_items_df[similar_items_df['business_id'].isin(bid_favored.business_id)].sort('score',ascending=False).similar[:5]"
   ]
  },
  {
   "cell_type": "markdown",
   "metadata": {},
   "source": [
    "# 4. Popularity-based recommender"
   ]
  },
  {
   "cell_type": "code",
   "execution_count": 40,
   "metadata": {},
   "outputs": [
    {
     "data": {
      "text/html": [
       "<div style=\"max-height:1000px;max-width:1500px;overflow:auto;\"><table frame=\"box\" rules=\"cols\">\n",
       "    <tr>\n",
       "        <th style=\"padding-left: 1em; padding-right: 1em; text-align: center\">business_id</th>\n",
       "        <th style=\"padding-left: 1em; padding-right: 1em; text-align: center\">user_id</th>\n",
       "        <th style=\"padding-left: 1em; padding-right: 1em; text-align: center\">stars</th>\n",
       "    </tr>\n",
       "    <tr>\n",
       "        <td style=\"padding-left: 1em; padding-right: 1em; text-align: center; vertical-align: top\">--9e1ONYQuAa-CB_Rrw7Tw</td>\n",
       "        <td style=\"padding-left: 1em; padding-right: 1em; text-align: center; vertical-align: top\">nT8zgjoc-PbdBoQsFEXFLw</td>\n",
       "        <td style=\"padding-left: 1em; padding-right: 1em; text-align: center; vertical-align: top\">5</td>\n",
       "    </tr>\n",
       "    <tr>\n",
       "        <td style=\"padding-left: 1em; padding-right: 1em; text-align: center; vertical-align: top\">--9e1ONYQuAa-CB_Rrw7Tw</td>\n",
       "        <td style=\"padding-left: 1em; padding-right: 1em; text-align: center; vertical-align: top\">rOIrilMC7VFwFVBeQNiKMw</td>\n",
       "        <td style=\"padding-left: 1em; padding-right: 1em; text-align: center; vertical-align: top\">3</td>\n",
       "    </tr>\n",
       "    <tr>\n",
       "        <td style=\"padding-left: 1em; padding-right: 1em; text-align: center; vertical-align: top\">--9e1ONYQuAa-CB_Rrw7Tw</td>\n",
       "        <td style=\"padding-left: 1em; padding-right: 1em; text-align: center; vertical-align: top\">ez3GBw83OIgzzgvc0R4jzw</td>\n",
       "        <td style=\"padding-left: 1em; padding-right: 1em; text-align: center; vertical-align: top\">4</td>\n",
       "    </tr>\n",
       "    <tr>\n",
       "        <td style=\"padding-left: 1em; padding-right: 1em; text-align: center; vertical-align: top\">--9e1ONYQuAa-CB_Rrw7Tw</td>\n",
       "        <td style=\"padding-left: 1em; padding-right: 1em; text-align: center; vertical-align: top\">gJrOPH-DSZWY_NX2j6Bugw</td>\n",
       "        <td style=\"padding-left: 1em; padding-right: 1em; text-align: center; vertical-align: top\">5</td>\n",
       "    </tr>\n",
       "    <tr>\n",
       "        <td style=\"padding-left: 1em; padding-right: 1em; text-align: center; vertical-align: top\">--9e1ONYQuAa-CB_Rrw7Tw</td>\n",
       "        <td style=\"padding-left: 1em; padding-right: 1em; text-align: center; vertical-align: top\">3Y_gz3wb7T5ur9FHqxBcgQ</td>\n",
       "        <td style=\"padding-left: 1em; padding-right: 1em; text-align: center; vertical-align: top\">5</td>\n",
       "    </tr>\n",
       "    <tr>\n",
       "        <td style=\"padding-left: 1em; padding-right: 1em; text-align: center; vertical-align: top\">--9e1ONYQuAa-CB_Rrw7Tw</td>\n",
       "        <td style=\"padding-left: 1em; padding-right: 1em; text-align: center; vertical-align: top\">b4bTks98idS6-hx5AT92WQ</td>\n",
       "        <td style=\"padding-left: 1em; padding-right: 1em; text-align: center; vertical-align: top\">5</td>\n",
       "    </tr>\n",
       "    <tr>\n",
       "        <td style=\"padding-left: 1em; padding-right: 1em; text-align: center; vertical-align: top\">--9e1ONYQuAa-CB_Rrw7Tw</td>\n",
       "        <td style=\"padding-left: 1em; padding-right: 1em; text-align: center; vertical-align: top\">quX8U7dnq5YN6h1P04ps4g</td>\n",
       "        <td style=\"padding-left: 1em; padding-right: 1em; text-align: center; vertical-align: top\">5</td>\n",
       "    </tr>\n",
       "    <tr>\n",
       "        <td style=\"padding-left: 1em; padding-right: 1em; text-align: center; vertical-align: top\">--9e1ONYQuAa-CB_Rrw7Tw</td>\n",
       "        <td style=\"padding-left: 1em; padding-right: 1em; text-align: center; vertical-align: top\">gcz5baFhV096VSrB9EESXw</td>\n",
       "        <td style=\"padding-left: 1em; padding-right: 1em; text-align: center; vertical-align: top\">4</td>\n",
       "    </tr>\n",
       "    <tr>\n",
       "        <td style=\"padding-left: 1em; padding-right: 1em; text-align: center; vertical-align: top\">--9e1ONYQuAa-CB_Rrw7Tw</td>\n",
       "        <td style=\"padding-left: 1em; padding-right: 1em; text-align: center; vertical-align: top\">WAzX3AaM6PQfzFJHaUF6xQ</td>\n",
       "        <td style=\"padding-left: 1em; padding-right: 1em; text-align: center; vertical-align: top\">5</td>\n",
       "    </tr>\n",
       "    <tr>\n",
       "        <td style=\"padding-left: 1em; padding-right: 1em; text-align: center; vertical-align: top\">--9e1ONYQuAa-CB_Rrw7Tw</td>\n",
       "        <td style=\"padding-left: 1em; padding-right: 1em; text-align: center; vertical-align: top\">1kr9EZFV3T_l-8KBkfPo5Q</td>\n",
       "        <td style=\"padding-left: 1em; padding-right: 1em; text-align: center; vertical-align: top\">3</td>\n",
       "    </tr>\n",
       "</table>\n",
       "[110462 rows x 3 columns]<br/>Note: Only the head of the SFrame is printed.<br/>You can use print_rows(num_rows=m, num_columns=n) to print more rows and columns.\n",
       "</div>"
      ],
      "text/plain": [
       "Columns:\n",
       "\tbusiness_id\tstr\n",
       "\tuser_id\tstr\n",
       "\tstars\tint\n",
       "\n",
       "Rows: 110462\n",
       "\n",
       "Data:\n",
       "+------------------------+------------------------+-------+\n",
       "|      business_id       |        user_id         | stars |\n",
       "+------------------------+------------------------+-------+\n",
       "| --9e1ONYQuAa-CB_Rrw7Tw | nT8zgjoc-PbdBoQsFEXFLw |   5   |\n",
       "| --9e1ONYQuAa-CB_Rrw7Tw | rOIrilMC7VFwFVBeQNiKMw |   3   |\n",
       "| --9e1ONYQuAa-CB_Rrw7Tw | ez3GBw83OIgzzgvc0R4jzw |   4   |\n",
       "| --9e1ONYQuAa-CB_Rrw7Tw | gJrOPH-DSZWY_NX2j6Bugw |   5   |\n",
       "| --9e1ONYQuAa-CB_Rrw7Tw | 3Y_gz3wb7T5ur9FHqxBcgQ |   5   |\n",
       "| --9e1ONYQuAa-CB_Rrw7Tw | b4bTks98idS6-hx5AT92WQ |   5   |\n",
       "| --9e1ONYQuAa-CB_Rrw7Tw | quX8U7dnq5YN6h1P04ps4g |   5   |\n",
       "| --9e1ONYQuAa-CB_Rrw7Tw | gcz5baFhV096VSrB9EESXw |   4   |\n",
       "| --9e1ONYQuAa-CB_Rrw7Tw | WAzX3AaM6PQfzFJHaUF6xQ |   5   |\n",
       "| --9e1ONYQuAa-CB_Rrw7Tw | 1kr9EZFV3T_l-8KBkfPo5Q |   3   |\n",
       "+------------------------+------------------------+-------+\n",
       "[110462 rows x 3 columns]\n",
       "Note: Only the head of the SFrame is printed.\n",
       "You can use print_rows(num_rows=m, num_columns=n) to print more rows and columns."
      ]
     },
     "execution_count": 40,
     "metadata": {},
     "output_type": "execute_result"
    }
   ],
   "source": [
    "# data\n",
    "sf_stars"
   ]
  },
  {
   "cell_type": "code",
   "execution_count": 41,
   "metadata": {},
   "outputs": [
    {
     "data": {
      "text/html": [
       "<pre>Recsys training: model = popularity</pre>"
      ],
      "text/plain": [
       "Recsys training: model = popularity"
      ]
     },
     "metadata": {},
     "output_type": "display_data"
    },
    {
     "data": {
      "text/html": [
       "<pre>Preparing data set.</pre>"
      ],
      "text/plain": [
       "Preparing data set."
      ]
     },
     "metadata": {},
     "output_type": "display_data"
    },
    {
     "data": {
      "text/html": [
       "<pre>    Data has 110462 observations with 62934 users and 3787 items.</pre>"
      ],
      "text/plain": [
       "    Data has 110462 observations with 62934 users and 3787 items."
      ]
     },
     "metadata": {},
     "output_type": "display_data"
    },
    {
     "data": {
      "text/html": [
       "<pre>    Data prepared in: 0.191187s</pre>"
      ],
      "text/plain": [
       "    Data prepared in: 0.191187s"
      ]
     },
     "metadata": {},
     "output_type": "display_data"
    },
    {
     "data": {
      "text/html": [
       "<pre>110462 observations to process; with 3787 unique items.</pre>"
      ],
      "text/plain": [
       "110462 observations to process; with 3787 unique items."
      ]
     },
     "metadata": {},
     "output_type": "display_data"
    }
   ],
   "source": [
    "# build recommendation system\n",
    "pop_rec = graphlab.popularity_recommender.create(sf_stars, \n",
    "                                                 user_id = 'user_id', \n",
    "                                                 item_id = 'business_id',\n",
    "                                                 target = 'stars')"
   ]
  },
  {
   "cell_type": "code",
   "execution_count": 42,
   "metadata": {},
   "outputs": [
    {
     "data": {
      "text/html": [
       "<pre>recommendations finished on 1000/62934 queries. users per second: 145603</pre>"
      ],
      "text/plain": [
       "recommendations finished on 1000/62934 queries. users per second: 145603"
      ]
     },
     "metadata": {},
     "output_type": "display_data"
    },
    {
     "data": {
      "text/html": [
       "<pre>recommendations finished on 2000/62934 queries. users per second: 157828</pre>"
      ],
      "text/plain": [
       "recommendations finished on 2000/62934 queries. users per second: 157828"
      ]
     },
     "metadata": {},
     "output_type": "display_data"
    },
    {
     "data": {
      "text/html": [
       "<pre>recommendations finished on 3000/62934 queries. users per second: 163416</pre>"
      ],
      "text/plain": [
       "recommendations finished on 3000/62934 queries. users per second: 163416"
      ]
     },
     "metadata": {},
     "output_type": "display_data"
    },
    {
     "data": {
      "text/html": [
       "<pre>recommendations finished on 4000/62934 queries. users per second: 165207</pre>"
      ],
      "text/plain": [
       "recommendations finished on 4000/62934 queries. users per second: 165207"
      ]
     },
     "metadata": {},
     "output_type": "display_data"
    },
    {
     "data": {
      "text/html": [
       "<pre>recommendations finished on 5000/62934 queries. users per second: 162670</pre>"
      ],
      "text/plain": [
       "recommendations finished on 5000/62934 queries. users per second: 162670"
      ]
     },
     "metadata": {},
     "output_type": "display_data"
    },
    {
     "data": {
      "text/html": [
       "<pre>recommendations finished on 6000/62934 queries. users per second: 163035</pre>"
      ],
      "text/plain": [
       "recommendations finished on 6000/62934 queries. users per second: 163035"
      ]
     },
     "metadata": {},
     "output_type": "display_data"
    },
    {
     "data": {
      "text/html": [
       "<pre>recommendations finished on 7000/62934 queries. users per second: 165274</pre>"
      ],
      "text/plain": [
       "recommendations finished on 7000/62934 queries. users per second: 165274"
      ]
     },
     "metadata": {},
     "output_type": "display_data"
    },
    {
     "data": {
      "text/html": [
       "<pre>recommendations finished on 8000/62934 queries. users per second: 164328</pre>"
      ],
      "text/plain": [
       "recommendations finished on 8000/62934 queries. users per second: 164328"
      ]
     },
     "metadata": {},
     "output_type": "display_data"
    },
    {
     "data": {
      "text/html": [
       "<pre>recommendations finished on 9000/62934 queries. users per second: 163607</pre>"
      ],
      "text/plain": [
       "recommendations finished on 9000/62934 queries. users per second: 163607"
      ]
     },
     "metadata": {},
     "output_type": "display_data"
    },
    {
     "data": {
      "text/html": [
       "<pre>recommendations finished on 10000/62934 queries. users per second: 161791</pre>"
      ],
      "text/plain": [
       "recommendations finished on 10000/62934 queries. users per second: 161791"
      ]
     },
     "metadata": {},
     "output_type": "display_data"
    },
    {
     "data": {
      "text/html": [
       "<pre>recommendations finished on 11000/62934 queries. users per second: 161402</pre>"
      ],
      "text/plain": [
       "recommendations finished on 11000/62934 queries. users per second: 161402"
      ]
     },
     "metadata": {},
     "output_type": "display_data"
    },
    {
     "data": {
      "text/html": [
       "<pre>recommendations finished on 12000/62934 queries. users per second: 162760</pre>"
      ],
      "text/plain": [
       "recommendations finished on 12000/62934 queries. users per second: 162760"
      ]
     },
     "metadata": {},
     "output_type": "display_data"
    },
    {
     "data": {
      "text/html": [
       "<pre>recommendations finished on 13000/62934 queries. users per second: 161531</pre>"
      ],
      "text/plain": [
       "recommendations finished on 13000/62934 queries. users per second: 161531"
      ]
     },
     "metadata": {},
     "output_type": "display_data"
    },
    {
     "data": {
      "text/html": [
       "<pre>recommendations finished on 14000/62934 queries. users per second: 160762</pre>"
      ],
      "text/plain": [
       "recommendations finished on 14000/62934 queries. users per second: 160762"
      ]
     },
     "metadata": {},
     "output_type": "display_data"
    },
    {
     "data": {
      "text/html": [
       "<pre>recommendations finished on 15000/62934 queries. users per second: 161141</pre>"
      ],
      "text/plain": [
       "recommendations finished on 15000/62934 queries. users per second: 161141"
      ]
     },
     "metadata": {},
     "output_type": "display_data"
    },
    {
     "data": {
      "text/html": [
       "<pre>recommendations finished on 16000/62934 queries. users per second: 161381</pre>"
      ],
      "text/plain": [
       "recommendations finished on 16000/62934 queries. users per second: 161381"
      ]
     },
     "metadata": {},
     "output_type": "display_data"
    },
    {
     "data": {
      "text/html": [
       "<pre>recommendations finished on 17000/62934 queries. users per second: 160163</pre>"
      ],
      "text/plain": [
       "recommendations finished on 17000/62934 queries. users per second: 160163"
      ]
     },
     "metadata": {},
     "output_type": "display_data"
    },
    {
     "data": {
      "text/html": [
       "<pre>recommendations finished on 18000/62934 queries. users per second: 159915</pre>"
      ],
      "text/plain": [
       "recommendations finished on 18000/62934 queries. users per second: 159915"
      ]
     },
     "metadata": {},
     "output_type": "display_data"
    },
    {
     "data": {
      "text/html": [
       "<pre>recommendations finished on 19000/62934 queries. users per second: 160641</pre>"
      ],
      "text/plain": [
       "recommendations finished on 19000/62934 queries. users per second: 160641"
      ]
     },
     "metadata": {},
     "output_type": "display_data"
    },
    {
     "data": {
      "text/html": [
       "<pre>recommendations finished on 20000/62934 queries. users per second: 159775</pre>"
      ],
      "text/plain": [
       "recommendations finished on 20000/62934 queries. users per second: 159775"
      ]
     },
     "metadata": {},
     "output_type": "display_data"
    },
    {
     "data": {
      "text/html": [
       "<pre>recommendations finished on 21000/62934 queries. users per second: 158753</pre>"
      ],
      "text/plain": [
       "recommendations finished on 21000/62934 queries. users per second: 158753"
      ]
     },
     "metadata": {},
     "output_type": "display_data"
    },
    {
     "data": {
      "text/html": [
       "<pre>recommendations finished on 22000/62934 queries. users per second: 159057</pre>"
      ],
      "text/plain": [
       "recommendations finished on 22000/62934 queries. users per second: 159057"
      ]
     },
     "metadata": {},
     "output_type": "display_data"
    },
    {
     "data": {
      "text/html": [
       "<pre>recommendations finished on 23000/62934 queries. users per second: 158514</pre>"
      ],
      "text/plain": [
       "recommendations finished on 23000/62934 queries. users per second: 158514"
      ]
     },
     "metadata": {},
     "output_type": "display_data"
    },
    {
     "data": {
      "text/html": [
       "<pre>recommendations finished on 24000/62934 queries. users per second: 156878</pre>"
      ],
      "text/plain": [
       "recommendations finished on 24000/62934 queries. users per second: 156878"
      ]
     },
     "metadata": {},
     "output_type": "display_data"
    },
    {
     "data": {
      "text/html": [
       "<pre>recommendations finished on 25000/62934 queries. users per second: 157733</pre>"
      ],
      "text/plain": [
       "recommendations finished on 25000/62934 queries. users per second: 157733"
      ]
     },
     "metadata": {},
     "output_type": "display_data"
    },
    {
     "data": {
      "text/html": [
       "<pre>recommendations finished on 26000/62934 queries. users per second: 157895</pre>"
      ],
      "text/plain": [
       "recommendations finished on 26000/62934 queries. users per second: 157895"
      ]
     },
     "metadata": {},
     "output_type": "display_data"
    },
    {
     "data": {
      "text/html": [
       "<pre>recommendations finished on 27000/62934 queries. users per second: 155613</pre>"
      ],
      "text/plain": [
       "recommendations finished on 27000/62934 queries. users per second: 155613"
      ]
     },
     "metadata": {},
     "output_type": "display_data"
    },
    {
     "data": {
      "text/html": [
       "<pre>recommendations finished on 28000/62934 queries. users per second: 154308</pre>"
      ],
      "text/plain": [
       "recommendations finished on 28000/62934 queries. users per second: 154308"
      ]
     },
     "metadata": {},
     "output_type": "display_data"
    },
    {
     "data": {
      "text/html": [
       "<pre>recommendations finished on 29000/62934 queries. users per second: 153364</pre>"
      ],
      "text/plain": [
       "recommendations finished on 29000/62934 queries. users per second: 153364"
      ]
     },
     "metadata": {},
     "output_type": "display_data"
    },
    {
     "data": {
      "text/html": [
       "<pre>recommendations finished on 30000/62934 queries. users per second: 152333</pre>"
      ],
      "text/plain": [
       "recommendations finished on 30000/62934 queries. users per second: 152333"
      ]
     },
     "metadata": {},
     "output_type": "display_data"
    },
    {
     "data": {
      "text/html": [
       "<pre>recommendations finished on 31000/62934 queries. users per second: 152267</pre>"
      ],
      "text/plain": [
       "recommendations finished on 31000/62934 queries. users per second: 152267"
      ]
     },
     "metadata": {},
     "output_type": "display_data"
    },
    {
     "data": {
      "text/html": [
       "<pre>recommendations finished on 32000/62934 queries. users per second: 151974</pre>"
      ],
      "text/plain": [
       "recommendations finished on 32000/62934 queries. users per second: 151974"
      ]
     },
     "metadata": {},
     "output_type": "display_data"
    },
    {
     "data": {
      "text/html": [
       "<pre>recommendations finished on 33000/62934 queries. users per second: 151951</pre>"
      ],
      "text/plain": [
       "recommendations finished on 33000/62934 queries. users per second: 151951"
      ]
     },
     "metadata": {},
     "output_type": "display_data"
    },
    {
     "data": {
      "text/html": [
       "<pre>recommendations finished on 34000/62934 queries. users per second: 151978</pre>"
      ],
      "text/plain": [
       "recommendations finished on 34000/62934 queries. users per second: 151978"
      ]
     },
     "metadata": {},
     "output_type": "display_data"
    },
    {
     "data": {
      "text/html": [
       "<pre>recommendations finished on 35000/62934 queries. users per second: 151790</pre>"
      ],
      "text/plain": [
       "recommendations finished on 35000/62934 queries. users per second: 151790"
      ]
     },
     "metadata": {},
     "output_type": "display_data"
    },
    {
     "data": {
      "text/html": [
       "<pre>recommendations finished on 36000/62934 queries. users per second: 151464</pre>"
      ],
      "text/plain": [
       "recommendations finished on 36000/62934 queries. users per second: 151464"
      ]
     },
     "metadata": {},
     "output_type": "display_data"
    },
    {
     "data": {
      "text/html": [
       "<pre>recommendations finished on 37000/62934 queries. users per second: 151209</pre>"
      ],
      "text/plain": [
       "recommendations finished on 37000/62934 queries. users per second: 151209"
      ]
     },
     "metadata": {},
     "output_type": "display_data"
    },
    {
     "data": {
      "text/html": [
       "<pre>recommendations finished on 38000/62934 queries. users per second: 151745</pre>"
      ],
      "text/plain": [
       "recommendations finished on 38000/62934 queries. users per second: 151745"
      ]
     },
     "metadata": {},
     "output_type": "display_data"
    },
    {
     "data": {
      "text/html": [
       "<pre>recommendations finished on 39000/62934 queries. users per second: 151924</pre>"
      ],
      "text/plain": [
       "recommendations finished on 39000/62934 queries. users per second: 151924"
      ]
     },
     "metadata": {},
     "output_type": "display_data"
    },
    {
     "data": {
      "text/html": [
       "<pre>recommendations finished on 40000/62934 queries. users per second: 152325</pre>"
      ],
      "text/plain": [
       "recommendations finished on 40000/62934 queries. users per second: 152325"
      ]
     },
     "metadata": {},
     "output_type": "display_data"
    },
    {
     "data": {
      "text/html": [
       "<pre>recommendations finished on 41000/62934 queries. users per second: 152741</pre>"
      ],
      "text/plain": [
       "recommendations finished on 41000/62934 queries. users per second: 152741"
      ]
     },
     "metadata": {},
     "output_type": "display_data"
    },
    {
     "data": {
      "text/html": [
       "<pre>recommendations finished on 42000/62934 queries. users per second: 153100</pre>"
      ],
      "text/plain": [
       "recommendations finished on 42000/62934 queries. users per second: 153100"
      ]
     },
     "metadata": {},
     "output_type": "display_data"
    },
    {
     "data": {
      "text/html": [
       "<pre>recommendations finished on 43000/62934 queries. users per second: 152876</pre>"
      ],
      "text/plain": [
       "recommendations finished on 43000/62934 queries. users per second: 152876"
      ]
     },
     "metadata": {},
     "output_type": "display_data"
    },
    {
     "data": {
      "text/html": [
       "<pre>recommendations finished on 44000/62934 queries. users per second: 152662</pre>"
      ],
      "text/plain": [
       "recommendations finished on 44000/62934 queries. users per second: 152662"
      ]
     },
     "metadata": {},
     "output_type": "display_data"
    },
    {
     "data": {
      "text/html": [
       "<pre>recommendations finished on 45000/62934 queries. users per second: 152600</pre>"
      ],
      "text/plain": [
       "recommendations finished on 45000/62934 queries. users per second: 152600"
      ]
     },
     "metadata": {},
     "output_type": "display_data"
    },
    {
     "data": {
      "text/html": [
       "<pre>recommendations finished on 46000/62934 queries. users per second: 152898</pre>"
      ],
      "text/plain": [
       "recommendations finished on 46000/62934 queries. users per second: 152898"
      ]
     },
     "metadata": {},
     "output_type": "display_data"
    },
    {
     "data": {
      "text/html": [
       "<pre>recommendations finished on 47000/62934 queries. users per second: 153122</pre>"
      ],
      "text/plain": [
       "recommendations finished on 47000/62934 queries. users per second: 153122"
      ]
     },
     "metadata": {},
     "output_type": "display_data"
    },
    {
     "data": {
      "text/html": [
       "<pre>recommendations finished on 48000/62934 queries. users per second: 153424</pre>"
      ],
      "text/plain": [
       "recommendations finished on 48000/62934 queries. users per second: 153424"
      ]
     },
     "metadata": {},
     "output_type": "display_data"
    },
    {
     "data": {
      "text/html": [
       "<pre>recommendations finished on 49000/62934 queries. users per second: 152677</pre>"
      ],
      "text/plain": [
       "recommendations finished on 49000/62934 queries. users per second: 152677"
      ]
     },
     "metadata": {},
     "output_type": "display_data"
    },
    {
     "data": {
      "text/html": [
       "<pre>recommendations finished on 50000/62934 queries. users per second: 152909</pre>"
      ],
      "text/plain": [
       "recommendations finished on 50000/62934 queries. users per second: 152909"
      ]
     },
     "metadata": {},
     "output_type": "display_data"
    },
    {
     "data": {
      "text/html": [
       "<pre>recommendations finished on 51000/62934 queries. users per second: 153118</pre>"
      ],
      "text/plain": [
       "recommendations finished on 51000/62934 queries. users per second: 153118"
      ]
     },
     "metadata": {},
     "output_type": "display_data"
    },
    {
     "data": {
      "text/html": [
       "<pre>recommendations finished on 52000/62934 queries. users per second: 152642</pre>"
      ],
      "text/plain": [
       "recommendations finished on 52000/62934 queries. users per second: 152642"
      ]
     },
     "metadata": {},
     "output_type": "display_data"
    },
    {
     "data": {
      "text/html": [
       "<pre>recommendations finished on 53000/62934 queries. users per second: 152581</pre>"
      ],
      "text/plain": [
       "recommendations finished on 53000/62934 queries. users per second: 152581"
      ]
     },
     "metadata": {},
     "output_type": "display_data"
    },
    {
     "data": {
      "text/html": [
       "<pre>recommendations finished on 54000/62934 queries. users per second: 151856</pre>"
      ],
      "text/plain": [
       "recommendations finished on 54000/62934 queries. users per second: 151856"
      ]
     },
     "metadata": {},
     "output_type": "display_data"
    },
    {
     "data": {
      "text/html": [
       "<pre>recommendations finished on 55000/62934 queries. users per second: 151113</pre>"
      ],
      "text/plain": [
       "recommendations finished on 55000/62934 queries. users per second: 151113"
      ]
     },
     "metadata": {},
     "output_type": "display_data"
    },
    {
     "data": {
      "text/html": [
       "<pre>recommendations finished on 56000/62934 queries. users per second: 151042</pre>"
      ],
      "text/plain": [
       "recommendations finished on 56000/62934 queries. users per second: 151042"
      ]
     },
     "metadata": {},
     "output_type": "display_data"
    },
    {
     "data": {
      "text/html": [
       "<pre>recommendations finished on 57000/62934 queries. users per second: 150738</pre>"
      ],
      "text/plain": [
       "recommendations finished on 57000/62934 queries. users per second: 150738"
      ]
     },
     "metadata": {},
     "output_type": "display_data"
    },
    {
     "data": {
      "text/html": [
       "<pre>recommendations finished on 58000/62934 queries. users per second: 149422</pre>"
      ],
      "text/plain": [
       "recommendations finished on 58000/62934 queries. users per second: 149422"
      ]
     },
     "metadata": {},
     "output_type": "display_data"
    },
    {
     "data": {
      "text/html": [
       "<pre>recommendations finished on 59000/62934 queries. users per second: 148764</pre>"
      ],
      "text/plain": [
       "recommendations finished on 59000/62934 queries. users per second: 148764"
      ]
     },
     "metadata": {},
     "output_type": "display_data"
    },
    {
     "data": {
      "text/html": [
       "<pre>recommendations finished on 60000/62934 queries. users per second: 147567</pre>"
      ],
      "text/plain": [
       "recommendations finished on 60000/62934 queries. users per second: 147567"
      ]
     },
     "metadata": {},
     "output_type": "display_data"
    },
    {
     "data": {
      "text/html": [
       "<pre>recommendations finished on 61000/62934 queries. users per second: 146328</pre>"
      ],
      "text/plain": [
       "recommendations finished on 61000/62934 queries. users per second: 146328"
      ]
     },
     "metadata": {},
     "output_type": "display_data"
    },
    {
     "data": {
      "text/html": [
       "<pre>recommendations finished on 62000/62934 queries. users per second: 139394</pre>"
      ],
      "text/plain": [
       "recommendations finished on 62000/62934 queries. users per second: 139394"
      ]
     },
     "metadata": {},
     "output_type": "display_data"
    }
   ],
   "source": [
    "# get recommendation\n",
    "pop_result = pop_rec.recommend()"
   ]
  },
  {
   "cell_type": "code",
   "execution_count": 43,
   "metadata": {},
   "outputs": [
    {
     "name": "stdout",
     "output_type": "stream",
     "text": [
      "+------------------------+------------------------+-------+-----+\n",
      "|        user_id         |      business_id       | score | ... |\n",
      "+------------------------+------------------------+-------+-----+\n",
      "| nT8zgjoc-PbdBoQsFEXFLw | 0rk2_lmbfpiYXGBFmyxx9Q |  5.0  | ... |\n",
      "| nT8zgjoc-PbdBoQsFEXFLw | 0qPNeqLuKE88rKbIbSZDpg |  5.0  | ... |\n",
      "| nT8zgjoc-PbdBoQsFEXFLw | 0mnnlFCploePlnEaddw63g |  5.0  | ... |\n",
      "| nT8zgjoc-PbdBoQsFEXFLw | -zbJp3NGEhvmNOiFziN8Lg |  5.0  | ... |\n",
      "| nT8zgjoc-PbdBoQsFEXFLw | -tseCGdDvepLP8IIWtZikQ |  5.0  | ... |\n",
      "| nT8zgjoc-PbdBoQsFEXFLw | -kbPPBNsIPDfMfgUGO7QhA |  5.0  | ... |\n",
      "| nT8zgjoc-PbdBoQsFEXFLw | -WQhVJnBmyapFn0digQJwg |  5.0  | ... |\n",
      "| nT8zgjoc-PbdBoQsFEXFLw | -UtYWvCnUppcSaC_u1pTYQ |  5.0  | ... |\n",
      "| nT8zgjoc-PbdBoQsFEXFLw | -CbDQXiuKzPQ0_jiUz03aw |  5.0  | ... |\n",
      "| nT8zgjoc-PbdBoQsFEXFLw | -BmqghX1sv7sgsxOIS2yAg |  5.0  | ... |\n",
      "| rOIrilMC7VFwFVBeQNiKMw | 0rk2_lmbfpiYXGBFmyxx9Q |  5.0  | ... |\n",
      "| rOIrilMC7VFwFVBeQNiKMw | 0qPNeqLuKE88rKbIbSZDpg |  5.0  | ... |\n",
      "| rOIrilMC7VFwFVBeQNiKMw | 0mnnlFCploePlnEaddw63g |  5.0  | ... |\n",
      "| rOIrilMC7VFwFVBeQNiKMw | -zbJp3NGEhvmNOiFziN8Lg |  5.0  | ... |\n",
      "| rOIrilMC7VFwFVBeQNiKMw | -tseCGdDvepLP8IIWtZikQ |  5.0  | ... |\n",
      "| rOIrilMC7VFwFVBeQNiKMw | -kbPPBNsIPDfMfgUGO7QhA |  5.0  | ... |\n",
      "| rOIrilMC7VFwFVBeQNiKMw | -WQhVJnBmyapFn0digQJwg |  5.0  | ... |\n",
      "| rOIrilMC7VFwFVBeQNiKMw | -UtYWvCnUppcSaC_u1pTYQ |  5.0  | ... |\n",
      "| rOIrilMC7VFwFVBeQNiKMw | -CbDQXiuKzPQ0_jiUz03aw |  5.0  | ... |\n",
      "| rOIrilMC7VFwFVBeQNiKMw | -BmqghX1sv7sgsxOIS2yAg |  5.0  | ... |\n",
      "| ez3GBw83OIgzzgvc0R4jzw | 0rk2_lmbfpiYXGBFmyxx9Q |  5.0  | ... |\n",
      "| ez3GBw83OIgzzgvc0R4jzw | 0qPNeqLuKE88rKbIbSZDpg |  5.0  | ... |\n",
      "| ez3GBw83OIgzzgvc0R4jzw | 0mnnlFCploePlnEaddw63g |  5.0  | ... |\n",
      "| ez3GBw83OIgzzgvc0R4jzw | -zbJp3NGEhvmNOiFziN8Lg |  5.0  | ... |\n",
      "| ez3GBw83OIgzzgvc0R4jzw | -tseCGdDvepLP8IIWtZikQ |  5.0  | ... |\n",
      "| ez3GBw83OIgzzgvc0R4jzw | -kbPPBNsIPDfMfgUGO7QhA |  5.0  | ... |\n",
      "| ez3GBw83OIgzzgvc0R4jzw | -WQhVJnBmyapFn0digQJwg |  5.0  | ... |\n",
      "| ez3GBw83OIgzzgvc0R4jzw | -UtYWvCnUppcSaC_u1pTYQ |  5.0  | ... |\n",
      "| ez3GBw83OIgzzgvc0R4jzw | -CbDQXiuKzPQ0_jiUz03aw |  5.0  | ... |\n",
      "| ez3GBw83OIgzzgvc0R4jzw | -BmqghX1sv7sgsxOIS2yAg |  5.0  | ... |\n",
      "+------------------------+------------------------+-------+-----+\n",
      "[629340 rows x 4 columns]\n",
      "\n"
     ]
    }
   ],
   "source": [
    "pop_result.print_rows(num_rows=30, num_columns=3)"
   ]
  },
  {
   "cell_type": "markdown",
   "metadata": {},
   "source": [
    "# 5. Hybrid Recommender\n",
    "\n",
    "for active user using item-item recommender, for inactive user using popularity recommender"
   ]
  }
 ],
 "metadata": {
  "kernelspec": {
   "display_name": "Python 2",
   "language": "python",
   "name": "python2"
  },
  "language_info": {
   "codemirror_mode": {
    "name": "ipython",
    "version": 2
   },
   "file_extension": ".py",
   "mimetype": "text/x-python",
   "name": "python",
   "nbconvert_exporter": "python",
   "pygments_lexer": "ipython2",
   "version": "2.7.3"
  }
 },
 "nbformat": 4,
 "nbformat_minor": 1
}
